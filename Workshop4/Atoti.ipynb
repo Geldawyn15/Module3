{
 "cells": [
  {
   "cell_type": "code",
   "execution_count": 8,
   "id": "cb9e305c-eff7-404a-aa8c-cfd07cd9b3c0",
   "metadata": {
    "scrolled": true
   },
   "outputs": [
    {
     "name": "stderr",
     "output_type": "stream",
     "text": [
      "Closing existing \"Unnamed\" session to create the new one.\n"
     ]
    }
   ],
   "source": [
    "import atoti as tt\n",
    "session = tt.Session()"
   ]
  },
  {
   "cell_type": "code",
   "execution_count": 9,
   "id": "b46436bb-6336-4ad2-becb-0838f438cae0",
   "metadata": {},
   "outputs": [],
   "source": [
    "sales_table = session.read_csv(\"sales.csv\", keys=[\"Sale ID\"])\n",
    "\n",
    "cube = session.create_cube(sales_table)"
   ]
  },
  {
   "cell_type": "code",
   "execution_count": 10,
   "id": "5018e68e-b8f8-45ab-9999-5f104b7d7e67",
   "metadata": {},
   "outputs": [
    {
     "data": {
      "application/json": {
       "Sales": {
        "Date": [
         "Date"
        ],
        "Product": [
         "Product"
        ],
        "Sale ID": [
         "Sale ID"
        ],
        "Shop": [
         "Shop"
        ]
       }
      },
      "text/html": [
       "<ul>\n",
       "<li>Dimensions\n",
       "  <ul>\n",
       "  <li>Sales\n",
       "    <ul>\n",
       "    <li>Date\n",
       "      <ol>\n",
       "      <li>Date</li>\n",
       "      </ol>    </li>\n",
       "    <li>Product\n",
       "      <ol>\n",
       "      <li>Product</li>\n",
       "      </ol>    </li>\n",
       "    <li>Sale ID\n",
       "      <ol>\n",
       "      <li>Sale ID</li>\n",
       "      </ol>    </li>\n",
       "    <li>Shop\n",
       "      <ol>\n",
       "      <li>Shop</li>\n",
       "      </ol>    </li>\n",
       "    </ul>\n",
       "  </li>\n",
       "  </ul>\n",
       "</li>\n",
       "</ul>\n"
      ],
      "text/plain": [
       "{('Sales', 'Sale ID'): <atoti.hierarchy.Hierarchy object at 0x000001BB828BD910>, ('Sales', 'Product'): <atoti.hierarchy.Hierarchy object at 0x000001BB828BE550>, ('Sales', 'Date'): <atoti.hierarchy.Hierarchy object at 0x000001BB82160710>, ('Sales', 'Shop'): <atoti.hierarchy.Hierarchy object at 0x000001BB828B16D0>}"
      ]
     },
     "execution_count": 10,
     "metadata": {
      "application/json": {
       "expanded": true,
       "root": "Dimensions"
      }
     },
     "output_type": "execute_result"
    }
   ],
   "source": [
    "h = cube.hierarchies\n",
    "h"
   ]
  },
  {
   "cell_type": "code",
   "execution_count": 11,
   "id": "4aa8996c-e1b6-4bd6-93aa-a9ebbab6efe5",
   "metadata": {},
   "outputs": [
    {
     "data": {
      "application/json": {
       "Date (Sales/Date/Date)": {
        "dimension": "Sales",
        "hierarchy": "Date",
        "order": "NaturalOrder",
        "type": "LocalDate"
       },
       "Product (Sales/Product/Product)": {
        "dimension": "Sales",
        "hierarchy": "Product",
        "order": "NaturalOrder",
        "type": "String"
       },
       "Sale ID (Sales/Sale ID/Sale ID)": {
        "dimension": "Sales",
        "hierarchy": "Sale ID",
        "order": "NaturalOrder",
        "type": "String"
       },
       "Shop (Sales/Shop/Shop)": {
        "dimension": "Sales",
        "hierarchy": "Shop",
        "order": "NaturalOrder",
        "type": "String"
       }
      },
      "text/html": [
       "<ul>\n",
       "<li>Levels\n",
       "  <ul>\n",
       "  <li>Date (Sales/Date/Date)\n",
       "    <ul>\n",
       "    <li>dimension: Sales</li>\n",
       "    <li>hierarchy: Date</li>\n",
       "    <li>type: LocalDate</li>\n",
       "    <li>order: NaturalOrder</li>\n",
       "    </ul>\n",
       "  </li>\n",
       "  <li>Product (Sales/Product/Product)\n",
       "    <ul>\n",
       "    <li>dimension: Sales</li>\n",
       "    <li>hierarchy: Product</li>\n",
       "    <li>type: String</li>\n",
       "    <li>order: NaturalOrder</li>\n",
       "    </ul>\n",
       "  </li>\n",
       "  <li>Sale ID (Sales/Sale ID/Sale ID)\n",
       "    <ul>\n",
       "    <li>dimension: Sales</li>\n",
       "    <li>hierarchy: Sale ID</li>\n",
       "    <li>type: String</li>\n",
       "    <li>order: NaturalOrder</li>\n",
       "    </ul>\n",
       "  </li>\n",
       "  <li>Shop (Sales/Shop/Shop)\n",
       "    <ul>\n",
       "    <li>dimension: Sales</li>\n",
       "    <li>hierarchy: Shop</li>\n",
       "    <li>type: String</li>\n",
       "    <li>order: NaturalOrder</li>\n",
       "    </ul>\n",
       "  </li>\n",
       "  </ul>\n",
       "</li>\n",
       "</ul>\n"
      ],
      "text/plain": [
       "<atoti.levels.Levels at 0x1bb828be5d0>"
      ]
     },
     "execution_count": 11,
     "metadata": {
      "application/json": {
       "expanded": true,
       "root": "Levels"
      }
     },
     "output_type": "execute_result"
    }
   ],
   "source": [
    "l = cube.levels\n",
    "l"
   ]
  },
  {
   "cell_type": "code",
   "execution_count": 12,
   "id": "b31d9873-41a8-41e6-a3bc-d3df3644d979",
   "metadata": {},
   "outputs": [
    {
     "data": {
      "application/json": {
       "Quantity.MEAN": {
        "formatter": "DOUBLE[#,###.00]"
       },
       "Quantity.SUM": {
        "formatter": "DOUBLE[#,###.00]"
       },
       "Unit price.MEAN": {
        "formatter": "DOUBLE[#,###.00]"
       },
       "Unit price.SUM": {
        "formatter": "DOUBLE[#,###.00]"
       },
       "contributors.COUNT": {
        "formatter": "INT[#,###]"
       }
      },
      "text/html": [
       "<ul>\n",
       "<li>Measures\n",
       "  <ul>\n",
       "  <li>Quantity.MEAN\n",
       "    <ul>\n",
       "    <li>formatter: DOUBLE[#,###.00]</li>\n",
       "    </ul>\n",
       "  </li>\n",
       "  <li>Quantity.SUM\n",
       "    <ul>\n",
       "    <li>formatter: DOUBLE[#,###.00]</li>\n",
       "    </ul>\n",
       "  </li>\n",
       "  <li>Unit price.MEAN\n",
       "    <ul>\n",
       "    <li>formatter: DOUBLE[#,###.00]</li>\n",
       "    </ul>\n",
       "  </li>\n",
       "  <li>Unit price.SUM\n",
       "    <ul>\n",
       "    <li>formatter: DOUBLE[#,###.00]</li>\n",
       "    </ul>\n",
       "  </li>\n",
       "  <li>contributors.COUNT\n",
       "    <ul>\n",
       "    <li>formatter: INT[#,###]</li>\n",
       "    </ul>\n",
       "  </li>\n",
       "  </ul>\n",
       "</li>\n",
       "</ul>\n"
      ],
      "text/plain": [
       "{'contributors.COUNT': <atoti.measure.Measure object at 0x000001BB828C46D0>, 'update.TIMESTAMP': <atoti.measure.Measure object at 0x000001BB828C4710>, 'Unit price.MEAN': <atoti.measure.Measure object at 0x000001BB828C45D0>, 'Unit price.SUM': <atoti.measure.Measure object at 0x000001BB828C4690>, 'Quantity.MEAN': <atoti.measure.Measure object at 0x000001BB828C7C90>, 'Quantity.SUM': <atoti.measure.Measure object at 0x000001BB828C7CD0>}"
      ]
     },
     "execution_count": 12,
     "metadata": {
      "application/json": {
       "expanded": false,
       "root": "Measures"
      }
     },
     "output_type": "execute_result"
    }
   ],
   "source": [
    "m = cube.measures\n",
    "m"
   ]
  },
  {
   "cell_type": "code",
   "execution_count": 13,
   "id": "e78f373f-24ee-43fc-8906-bba2542f5c60",
   "metadata": {},
   "outputs": [
    {
     "data": {
      "text/html": [
       "<div>\n",
       "<style scoped>\n",
       "    .dataframe tbody tr th:only-of-type {\n",
       "        vertical-align: middle;\n",
       "    }\n",
       "\n",
       "    .dataframe tbody tr th {\n",
       "        vertical-align: top;\n",
       "    }\n",
       "\n",
       "    .dataframe thead th {\n",
       "        text-align: right;\n",
       "    }\n",
       "</style>\n",
       "<table border=\"1\" class=\"dataframe\">\n",
       "  <thead>\n",
       "    <tr style=\"text-align: right;\">\n",
       "      <th></th>\n",
       "      <th>Quantity.SUM</th>\n",
       "    </tr>\n",
       "  </thead>\n",
       "  <tbody>\n",
       "    <tr>\n",
       "      <th>0</th>\n",
       "      <td>8,077.00</td>\n",
       "    </tr>\n",
       "  </tbody>\n",
       "</table>\n",
       "</div>"
      ],
      "text/plain": [
       "  Quantity.SUM\n",
       "0     8,077.00"
      ]
     },
     "execution_count": 13,
     "metadata": {},
     "output_type": "execute_result"
    }
   ],
   "source": [
    "cube.query(m[\"Quantity.SUM\"])"
   ]
  },
  {
   "cell_type": "code",
   "execution_count": 14,
   "id": "e33ea188-ebe8-4a57-8cf2-1399ef85246c",
   "metadata": {},
   "outputs": [
    {
     "data": {
      "text/html": [
       "<div>\n",
       "<style scoped>\n",
       "    .dataframe tbody tr th:only-of-type {\n",
       "        vertical-align: middle;\n",
       "    }\n",
       "\n",
       "    .dataframe tbody tr th {\n",
       "        vertical-align: top;\n",
       "    }\n",
       "\n",
       "    .dataframe thead th {\n",
       "        text-align: right;\n",
       "    }\n",
       "</style>\n",
       "<table border=\"1\" class=\"dataframe\">\n",
       "  <thead>\n",
       "    <tr style=\"text-align: right;\">\n",
       "      <th></th>\n",
       "      <th>Quantity.SUM</th>\n",
       "    </tr>\n",
       "    <tr>\n",
       "      <th>Shop</th>\n",
       "      <th></th>\n",
       "    </tr>\n",
       "  </thead>\n",
       "  <tbody>\n",
       "    <tr>\n",
       "      <th>shop_0</th>\n",
       "      <td>202.00</td>\n",
       "    </tr>\n",
       "    <tr>\n",
       "      <th>shop_1</th>\n",
       "      <td>202.00</td>\n",
       "    </tr>\n",
       "    <tr>\n",
       "      <th>shop_10</th>\n",
       "      <td>203.00</td>\n",
       "    </tr>\n",
       "    <tr>\n",
       "      <th>shop_11</th>\n",
       "      <td>203.00</td>\n",
       "    </tr>\n",
       "    <tr>\n",
       "      <th>shop_12</th>\n",
       "      <td>201.00</td>\n",
       "    </tr>\n",
       "    <tr>\n",
       "      <th>shop_13</th>\n",
       "      <td>202.00</td>\n",
       "    </tr>\n",
       "    <tr>\n",
       "      <th>shop_14</th>\n",
       "      <td>202.00</td>\n",
       "    </tr>\n",
       "    <tr>\n",
       "      <th>shop_15</th>\n",
       "      <td>202.00</td>\n",
       "    </tr>\n",
       "    <tr>\n",
       "      <th>shop_16</th>\n",
       "      <td>201.00</td>\n",
       "    </tr>\n",
       "    <tr>\n",
       "      <th>shop_17</th>\n",
       "      <td>204.00</td>\n",
       "    </tr>\n",
       "    <tr>\n",
       "      <th>shop_18</th>\n",
       "      <td>202.00</td>\n",
       "    </tr>\n",
       "    <tr>\n",
       "      <th>shop_19</th>\n",
       "      <td>202.00</td>\n",
       "    </tr>\n",
       "    <tr>\n",
       "      <th>shop_2</th>\n",
       "      <td>202.00</td>\n",
       "    </tr>\n",
       "    <tr>\n",
       "      <th>shop_20</th>\n",
       "      <td>201.00</td>\n",
       "    </tr>\n",
       "    <tr>\n",
       "      <th>shop_21</th>\n",
       "      <td>201.00</td>\n",
       "    </tr>\n",
       "    <tr>\n",
       "      <th>shop_22</th>\n",
       "      <td>201.00</td>\n",
       "    </tr>\n",
       "    <tr>\n",
       "      <th>shop_23</th>\n",
       "      <td>203.00</td>\n",
       "    </tr>\n",
       "    <tr>\n",
       "      <th>shop_24</th>\n",
       "      <td>203.00</td>\n",
       "    </tr>\n",
       "    <tr>\n",
       "      <th>shop_25</th>\n",
       "      <td>201.00</td>\n",
       "    </tr>\n",
       "    <tr>\n",
       "      <th>shop_26</th>\n",
       "      <td>202.00</td>\n",
       "    </tr>\n",
       "    <tr>\n",
       "      <th>shop_27</th>\n",
       "      <td>202.00</td>\n",
       "    </tr>\n",
       "    <tr>\n",
       "      <th>shop_28</th>\n",
       "      <td>202.00</td>\n",
       "    </tr>\n",
       "    <tr>\n",
       "      <th>shop_29</th>\n",
       "      <td>201.00</td>\n",
       "    </tr>\n",
       "    <tr>\n",
       "      <th>shop_3</th>\n",
       "      <td>201.00</td>\n",
       "    </tr>\n",
       "    <tr>\n",
       "      <th>shop_30</th>\n",
       "      <td>204.00</td>\n",
       "    </tr>\n",
       "    <tr>\n",
       "      <th>shop_31</th>\n",
       "      <td>202.00</td>\n",
       "    </tr>\n",
       "    <tr>\n",
       "      <th>shop_32</th>\n",
       "      <td>202.00</td>\n",
       "    </tr>\n",
       "    <tr>\n",
       "      <th>shop_33</th>\n",
       "      <td>201.00</td>\n",
       "    </tr>\n",
       "    <tr>\n",
       "      <th>shop_34</th>\n",
       "      <td>201.00</td>\n",
       "    </tr>\n",
       "    <tr>\n",
       "      <th>shop_35</th>\n",
       "      <td>201.00</td>\n",
       "    </tr>\n",
       "    <tr>\n",
       "      <th>shop_36</th>\n",
       "      <td>203.00</td>\n",
       "    </tr>\n",
       "    <tr>\n",
       "      <th>shop_37</th>\n",
       "      <td>203.00</td>\n",
       "    </tr>\n",
       "    <tr>\n",
       "      <th>shop_38</th>\n",
       "      <td>201.00</td>\n",
       "    </tr>\n",
       "    <tr>\n",
       "      <th>shop_39</th>\n",
       "      <td>202.00</td>\n",
       "    </tr>\n",
       "    <tr>\n",
       "      <th>shop_4</th>\n",
       "      <td>204.00</td>\n",
       "    </tr>\n",
       "    <tr>\n",
       "      <th>shop_5</th>\n",
       "      <td>202.00</td>\n",
       "    </tr>\n",
       "    <tr>\n",
       "      <th>shop_6</th>\n",
       "      <td>202.00</td>\n",
       "    </tr>\n",
       "    <tr>\n",
       "      <th>shop_7</th>\n",
       "      <td>201.00</td>\n",
       "    </tr>\n",
       "    <tr>\n",
       "      <th>shop_8</th>\n",
       "      <td>201.00</td>\n",
       "    </tr>\n",
       "    <tr>\n",
       "      <th>shop_9</th>\n",
       "      <td>201.00</td>\n",
       "    </tr>\n",
       "  </tbody>\n",
       "</table>\n",
       "</div>"
      ],
      "text/plain": [
       "        Quantity.SUM\n",
       "Shop                \n",
       "shop_0        202.00\n",
       "shop_1        202.00\n",
       "shop_10       203.00\n",
       "shop_11       203.00\n",
       "shop_12       201.00\n",
       "shop_13       202.00\n",
       "shop_14       202.00\n",
       "shop_15       202.00\n",
       "shop_16       201.00\n",
       "shop_17       204.00\n",
       "shop_18       202.00\n",
       "shop_19       202.00\n",
       "shop_2        202.00\n",
       "shop_20       201.00\n",
       "shop_21       201.00\n",
       "shop_22       201.00\n",
       "shop_23       203.00\n",
       "shop_24       203.00\n",
       "shop_25       201.00\n",
       "shop_26       202.00\n",
       "shop_27       202.00\n",
       "shop_28       202.00\n",
       "shop_29       201.00\n",
       "shop_3        201.00\n",
       "shop_30       204.00\n",
       "shop_31       202.00\n",
       "shop_32       202.00\n",
       "shop_33       201.00\n",
       "shop_34       201.00\n",
       "shop_35       201.00\n",
       "shop_36       203.00\n",
       "shop_37       203.00\n",
       "shop_38       201.00\n",
       "shop_39       202.00\n",
       "shop_4        204.00\n",
       "shop_5        202.00\n",
       "shop_6        202.00\n",
       "shop_7        201.00\n",
       "shop_8        201.00\n",
       "shop_9        201.00"
      ]
     },
     "execution_count": 14,
     "metadata": {},
     "output_type": "execute_result"
    }
   ],
   "source": [
    "cube.query(m[\"Quantity.SUM\"], levels=[l[\"Shop\"]])"
   ]
  },
  {
   "cell_type": "code",
   "execution_count": 15,
   "id": "0f76e16b-58e5-4ffa-9c89-55626119623e",
   "metadata": {},
   "outputs": [
    {
     "data": {
      "text/html": [
       "<div>\n",
       "<style scoped>\n",
       "    .dataframe tbody tr th:only-of-type {\n",
       "        vertical-align: middle;\n",
       "    }\n",
       "\n",
       "    .dataframe tbody tr th {\n",
       "        vertical-align: top;\n",
       "    }\n",
       "\n",
       "    .dataframe thead th {\n",
       "        text-align: right;\n",
       "    }\n",
       "</style>\n",
       "<table border=\"1\" class=\"dataframe\">\n",
       "  <thead>\n",
       "    <tr style=\"text-align: right;\">\n",
       "      <th></th>\n",
       "      <th>Quantity.SUM</th>\n",
       "    </tr>\n",
       "  </thead>\n",
       "  <tbody>\n",
       "    <tr>\n",
       "      <th>0</th>\n",
       "      <td>202.00</td>\n",
       "    </tr>\n",
       "  </tbody>\n",
       "</table>\n",
       "</div>"
      ],
      "text/plain": [
       "  Quantity.SUM\n",
       "0       202.00"
      ]
     },
     "execution_count": 15,
     "metadata": {},
     "output_type": "execute_result"
    }
   ],
   "source": [
    "cube.query(\n",
    "    m[\"Quantity.SUM\"],\n",
    "    filter=l[\"Shop\"] == \"shop_0\",\n",
    ")"
   ]
  },
  {
   "cell_type": "code",
   "execution_count": 16,
   "id": "7a5f2791-dcf0-41ea-af14-3343667e882e",
   "metadata": {},
   "outputs": [
    {
     "data": {
      "text/html": [
       "<div>\n",
       "<style scoped>\n",
       "    .dataframe tbody tr th:only-of-type {\n",
       "        vertical-align: middle;\n",
       "    }\n",
       "\n",
       "    .dataframe tbody tr th {\n",
       "        vertical-align: top;\n",
       "    }\n",
       "\n",
       "    .dataframe thead th {\n",
       "        text-align: right;\n",
       "    }\n",
       "</style>\n",
       "<table border=\"1\" class=\"dataframe\">\n",
       "  <thead>\n",
       "    <tr style=\"text-align: right;\">\n",
       "      <th></th>\n",
       "      <th></th>\n",
       "      <th>Quantity.SUM</th>\n",
       "    </tr>\n",
       "    <tr>\n",
       "      <th>Date</th>\n",
       "      <th>Product</th>\n",
       "      <th></th>\n",
       "    </tr>\n",
       "  </thead>\n",
       "  <tbody>\n",
       "    <tr>\n",
       "      <th rowspan=\"5\" valign=\"top\">2021-01-06</th>\n",
       "      <th>BED_24</th>\n",
       "      <td>8.00</td>\n",
       "    </tr>\n",
       "    <tr>\n",
       "      <th>BED_25</th>\n",
       "      <td>4.00</td>\n",
       "    </tr>\n",
       "    <tr>\n",
       "      <th>BED_26</th>\n",
       "      <td>6.00</td>\n",
       "    </tr>\n",
       "    <tr>\n",
       "      <th>BED_27</th>\n",
       "      <td>4.00</td>\n",
       "    </tr>\n",
       "    <tr>\n",
       "      <th>BED_3</th>\n",
       "      <td>2.00</td>\n",
       "    </tr>\n",
       "    <tr>\n",
       "      <th>...</th>\n",
       "      <th>...</th>\n",
       "      <td>...</td>\n",
       "    </tr>\n",
       "    <tr>\n",
       "      <th rowspan=\"5\" valign=\"top\">2021-02-04</th>\n",
       "      <th>TSH_52</th>\n",
       "      <td>6.00</td>\n",
       "    </tr>\n",
       "    <tr>\n",
       "      <th>TSH_53</th>\n",
       "      <td>4.00</td>\n",
       "    </tr>\n",
       "    <tr>\n",
       "      <th>TSH_7</th>\n",
       "      <td>3.00</td>\n",
       "    </tr>\n",
       "    <tr>\n",
       "      <th>TSH_8</th>\n",
       "      <td>5.00</td>\n",
       "    </tr>\n",
       "    <tr>\n",
       "      <th>TSH_9</th>\n",
       "      <td>3.00</td>\n",
       "    </tr>\n",
       "  </tbody>\n",
       "</table>\n",
       "<p>1830 rows × 1 columns</p>\n",
       "</div>"
      ],
      "text/plain": [
       "                   Quantity.SUM\n",
       "Date       Product             \n",
       "2021-01-06 BED_24          8.00\n",
       "           BED_25          4.00\n",
       "           BED_26          6.00\n",
       "           BED_27          4.00\n",
       "           BED_3           2.00\n",
       "...                         ...\n",
       "2021-02-04 TSH_52          6.00\n",
       "           TSH_53          4.00\n",
       "           TSH_7           3.00\n",
       "           TSH_8           5.00\n",
       "           TSH_9           3.00\n",
       "\n",
       "[1830 rows x 1 columns]"
      ]
     },
     "execution_count": 16,
     "metadata": {},
     "output_type": "execute_result"
    }
   ],
   "source": [
    "cube.query(m[\"Quantity.SUM\"], levels=[l[\"Date\"], l[\"Product\"]])"
   ]
  },
  {
   "cell_type": "code",
   "execution_count": 17,
   "id": "279eb017-17eb-4ce2-b93b-28a0b2f1bdfc",
   "metadata": {},
   "outputs": [
    {
     "data": {
      "text/html": [
       "<div>\n",
       "<style scoped>\n",
       "    .dataframe tbody tr th:only-of-type {\n",
       "        vertical-align: middle;\n",
       "    }\n",
       "\n",
       "    .dataframe tbody tr th {\n",
       "        vertical-align: top;\n",
       "    }\n",
       "\n",
       "    .dataframe thead th {\n",
       "        text-align: right;\n",
       "    }\n",
       "</style>\n",
       "<table border=\"1\" class=\"dataframe\">\n",
       "  <thead>\n",
       "    <tr style=\"text-align: right;\">\n",
       "      <th></th>\n",
       "      <th></th>\n",
       "      <th>Quantity.SUM</th>\n",
       "    </tr>\n",
       "    <tr>\n",
       "      <th>Date</th>\n",
       "      <th>Product</th>\n",
       "      <th></th>\n",
       "    </tr>\n",
       "  </thead>\n",
       "  <tbody>\n",
       "    <tr>\n",
       "      <th rowspan=\"5\" valign=\"top\">2021-01-15</th>\n",
       "      <th>BED_24</th>\n",
       "      <td>1.00</td>\n",
       "    </tr>\n",
       "    <tr>\n",
       "      <th>BED_26</th>\n",
       "      <td>1.00</td>\n",
       "    </tr>\n",
       "    <tr>\n",
       "      <th>BED_3</th>\n",
       "      <td>1.00</td>\n",
       "    </tr>\n",
       "    <tr>\n",
       "      <th>BED_4</th>\n",
       "      <td>1.00</td>\n",
       "    </tr>\n",
       "    <tr>\n",
       "      <th>BED_46</th>\n",
       "      <td>1.00</td>\n",
       "    </tr>\n",
       "    <tr>\n",
       "      <th>...</th>\n",
       "      <th>...</th>\n",
       "      <td>...</td>\n",
       "    </tr>\n",
       "    <tr>\n",
       "      <th rowspan=\"5\" valign=\"top\">2021-02-04</th>\n",
       "      <th>TSH_51</th>\n",
       "      <td>2.00</td>\n",
       "    </tr>\n",
       "    <tr>\n",
       "      <th>TSH_52</th>\n",
       "      <td>1.00</td>\n",
       "    </tr>\n",
       "    <tr>\n",
       "      <th>TSH_53</th>\n",
       "      <td>1.00</td>\n",
       "    </tr>\n",
       "    <tr>\n",
       "      <th>TSH_7</th>\n",
       "      <td>1.00</td>\n",
       "    </tr>\n",
       "    <tr>\n",
       "      <th>TSH_9</th>\n",
       "      <td>1.00</td>\n",
       "    </tr>\n",
       "  </tbody>\n",
       "</table>\n",
       "<p>125 rows × 1 columns</p>\n",
       "</div>"
      ],
      "text/plain": [
       "                   Quantity.SUM\n",
       "Date       Product             \n",
       "2021-01-15 BED_24          1.00\n",
       "           BED_26          1.00\n",
       "           BED_3           1.00\n",
       "           BED_4           1.00\n",
       "           BED_46          1.00\n",
       "...                         ...\n",
       "2021-02-04 TSH_51          2.00\n",
       "           TSH_52          1.00\n",
       "           TSH_53          1.00\n",
       "           TSH_7           1.00\n",
       "           TSH_9           1.00\n",
       "\n",
       "[125 rows x 1 columns]"
      ]
     },
     "execution_count": 17,
     "metadata": {},
     "output_type": "execute_result"
    }
   ],
   "source": [
    "cube.query(\n",
    "    m[\"Quantity.SUM\"],\n",
    "    levels=[l[\"Date\"], l[\"Product\"]],\n",
    "    filter=l[\"Shop\"] == \"shop_0\",\n",
    ")"
   ]
  },
  {
   "cell_type": "code",
   "execution_count": 18,
   "id": "a607841d-3d29-41e6-9f27-3906fbaf4757",
   "metadata": {
    "scrolled": true
   },
   "outputs": [
    {
     "data": {
      "application/vnd.atoti.widget.v0+json": {
       "sessionId": "1704710889_PJ9JPW",
       "sessionLocation": {
        "https": false,
        "port": 49404
       },
       "widgetCreationCode": "session.widget"
      },
      "text/html": [
       "<img height=\"352\" width=\"792\" src=\"data:image/png;base64,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\" />"
      ],
      "text/plain": [
       "Open the notebook in JupyterLab with the Atoti JupyterLab extension enabled to build this widget."
      ]
     },
     "metadata": {},
     "output_type": "display_data"
    }
   ],
   "source": [
    "session.widget"
   ]
  },
  {
   "cell_type": "code",
   "execution_count": 19,
   "id": "3789ceee-48ac-4958-8bf4-4ae6771e2d06",
   "metadata": {},
   "outputs": [],
   "source": [
    "products_table = session.read_csv(\"products.csv\", keys=[\"Product\"])"
   ]
  },
  {
   "cell_type": "code",
   "execution_count": 20,
   "id": "73f0ccde-ab31-48a0-bcd7-e9bd934b4500",
   "metadata": {},
   "outputs": [
    {
     "data": {
      "text/html": [
       "<div>\n",
       "<style scoped>\n",
       "    .dataframe tbody tr th:only-of-type {\n",
       "        vertical-align: middle;\n",
       "    }\n",
       "\n",
       "    .dataframe tbody tr th {\n",
       "        vertical-align: top;\n",
       "    }\n",
       "\n",
       "    .dataframe thead th {\n",
       "        text-align: right;\n",
       "    }\n",
       "</style>\n",
       "<table border=\"1\" class=\"dataframe\">\n",
       "  <thead>\n",
       "    <tr style=\"text-align: right;\">\n",
       "      <th></th>\n",
       "      <th>Category</th>\n",
       "      <th>Sub category</th>\n",
       "      <th>Size</th>\n",
       "      <th>Purchase price</th>\n",
       "      <th>Color</th>\n",
       "      <th>Brand</th>\n",
       "    </tr>\n",
       "    <tr>\n",
       "      <th>Product</th>\n",
       "      <th></th>\n",
       "      <th></th>\n",
       "      <th></th>\n",
       "      <th></th>\n",
       "      <th></th>\n",
       "      <th></th>\n",
       "    </tr>\n",
       "  </thead>\n",
       "  <tbody>\n",
       "    <tr>\n",
       "      <th>BED_6</th>\n",
       "      <td>Furniture</td>\n",
       "      <td>Bed</td>\n",
       "      <td>King</td>\n",
       "      <td>375.0</td>\n",
       "      <td>white</td>\n",
       "      <td>Basic</td>\n",
       "    </tr>\n",
       "    <tr>\n",
       "      <th>HOO_14</th>\n",
       "      <td>Cloth</td>\n",
       "      <td>Hoodie</td>\n",
       "      <td>L</td>\n",
       "      <td>39.0</td>\n",
       "      <td>brown</td>\n",
       "      <td>Over</td>\n",
       "    </tr>\n",
       "    <tr>\n",
       "      <th>TAB_22</th>\n",
       "      <td>Furniture</td>\n",
       "      <td>Table</td>\n",
       "      <td>2m40</td>\n",
       "      <td>280.0</td>\n",
       "      <td>blue</td>\n",
       "      <td>Basic</td>\n",
       "    </tr>\n",
       "    <tr>\n",
       "      <th>TSH_30</th>\n",
       "      <td>Cloth</td>\n",
       "      <td>T-shirt</td>\n",
       "      <td>M</td>\n",
       "      <td>19.0</td>\n",
       "      <td>black</td>\n",
       "      <td>Over</td>\n",
       "    </tr>\n",
       "    <tr>\n",
       "      <th>SHO_38</th>\n",
       "      <td>Cloth</td>\n",
       "      <td>Shoes</td>\n",
       "      <td>9</td>\n",
       "      <td>44.0</td>\n",
       "      <td>red</td>\n",
       "      <td>Over</td>\n",
       "    </tr>\n",
       "  </tbody>\n",
       "</table>\n",
       "</div>"
      ],
      "text/plain": [
       "          Category Sub category  Size  Purchase price  Color  Brand\n",
       "Product                                                            \n",
       "BED_6    Furniture          Bed  King           375.0  white  Basic\n",
       "HOO_14       Cloth       Hoodie     L            39.0  brown   Over\n",
       "TAB_22   Furniture        Table  2m40           280.0   blue  Basic\n",
       "TSH_30       Cloth      T-shirt     M            19.0  black   Over\n",
       "SHO_38       Cloth        Shoes     9            44.0    red   Over"
      ]
     },
     "execution_count": 20,
     "metadata": {},
     "output_type": "execute_result"
    }
   ],
   "source": [
    "products_table.head()"
   ]
  },
  {
   "cell_type": "code",
   "execution_count": 21,
   "id": "7f8aa2e9-7ec3-43c0-bf90-cea2f2c53734",
   "metadata": {},
   "outputs": [],
   "source": [
    "sales_table.join(products_table, sales_table[\"Product\"] == products_table[\"Product\"])"
   ]
  },
  {
   "cell_type": "code",
   "execution_count": 22,
   "id": "e7252730-2a2f-4bac-be0a-ea9bec5bb99a",
   "metadata": {},
   "outputs": [
    {
     "name": "stderr",
     "output_type": "stream",
     "text": [
      "An error occurred while calling o551.generateSchemaGraph.\n",
      ": guru.nidi.graphviz.engine.GraphvizException: None of the provided engines could be initialized.\n",
      "\tat guru.nidi.graphviz.engine.Graphviz.getEngine(Graphviz.java:162)\n",
      "\tat guru.nidi.graphviz.engine.Graphviz.doExecute(Graphviz.java:312)\n",
      "\tat guru.nidi.graphviz.engine.Graphviz.execute(Graphviz.java:292)\n",
      "\tat guru.nidi.graphviz.engine.Renderer.execute(Renderer.java:139)\n",
      "\tat guru.nidi.graphviz.engine.Renderer.toFile(Renderer.java:59)\n",
      "\tat com.activeviam.graphviz.DataStoreGraphBuilder.writeGraph(DataStoreGraphBuilder.java:110)\n",
      "\tat com.activeviam.graphviz.DataStoreGraphBuilder.buildDatastoreSchema(DataStoreGraphBuilder.java:105)\n",
      "\tat io.atoti.api.impl.OutsideTransactionDataApiImpl.generateSchemaGraph(OutsideTransactionDataApiImpl.java:185)\n",
      "\tat java.base/jdk.internal.reflect.NativeMethodAccessorImpl.invoke0(Native Method)\n",
      "\tat java.base/jdk.internal.reflect.NativeMethodAccessorImpl.invoke(Unknown Source)\n",
      "\tat java.base/jdk.internal.reflect.DelegatingMethodAccessorImpl.invoke(Unknown Source)\n",
      "\tat java.base/java.lang.reflect.Method.invoke(Unknown Source)\n",
      "\tat py4j.reflection.MethodInvoker.invoke(MethodInvoker.java:244)\n",
      "\tat py4j.reflection.ReflectionEngine.invoke(ReflectionEngine.java:357)\n",
      "\tat py4j.Gateway.invoke(Gateway.java:282)\n",
      "\tat py4j.commands.AbstractCommand.invokeMethod(AbstractCommand.java:132)\n",
      "\tat py4j.commands.CallCommand.execute(CallCommand.java:79)\n",
      "\tat py4j.ClientServerConnection.waitForCommands(ClientServerConnection.java:182)\n",
      "\tat py4j.ClientServerConnection.run(ClientServerConnection.java:106)\n",
      "\tat java.base/java.lang.Thread.run(Unknown Source)\n",
      "\n"
     ]
    }
   ],
   "source": [
    "session.tables.schema"
   ]
  },
  {
   "cell_type": "code",
   "execution_count": 23,
   "id": "a1bfce6d-0969-43f2-8612-d8eca8eed47e",
   "metadata": {},
   "outputs": [
    {
     "data": {
      "application/json": {
       "Products": {
        "Brand": [
         "Brand"
        ],
        "Category": [
         "Category"
        ],
        "Color": [
         "Color"
        ],
        "Size": [
         "Size"
        ],
        "Sub category": [
         "Sub category"
        ]
       },
       "Sales": {
        "Date": [
         "Date"
        ],
        "Product": [
         "Product"
        ],
        "Sale ID": [
         "Sale ID"
        ],
        "Shop": [
         "Shop"
        ]
       }
      },
      "text/html": [
       "<ul>\n",
       "<li>Dimensions\n",
       "  <ul>\n",
       "  <li>Products\n",
       "    <ul>\n",
       "    <li>Brand\n",
       "      <ol>\n",
       "      <li>Brand</li>\n",
       "      </ol>    </li>\n",
       "    <li>Category\n",
       "      <ol>\n",
       "      <li>Category</li>\n",
       "      </ol>    </li>\n",
       "    <li>Color\n",
       "      <ol>\n",
       "      <li>Color</li>\n",
       "      </ol>    </li>\n",
       "    <li>Size\n",
       "      <ol>\n",
       "      <li>Size</li>\n",
       "      </ol>    </li>\n",
       "    <li>Sub category\n",
       "      <ol>\n",
       "      <li>Sub category</li>\n",
       "      </ol>    </li>\n",
       "    </ul>\n",
       "  </li>\n",
       "  <li>Sales\n",
       "    <ul>\n",
       "    <li>Date\n",
       "      <ol>\n",
       "      <li>Date</li>\n",
       "      </ol>    </li>\n",
       "    <li>Product\n",
       "      <ol>\n",
       "      <li>Product</li>\n",
       "      </ol>    </li>\n",
       "    <li>Sale ID\n",
       "      <ol>\n",
       "      <li>Sale ID</li>\n",
       "      </ol>    </li>\n",
       "    <li>Shop\n",
       "      <ol>\n",
       "      <li>Shop</li>\n",
       "      </ol>    </li>\n",
       "    </ul>\n",
       "  </li>\n",
       "  </ul>\n",
       "</li>\n",
       "</ul>\n"
      ],
      "text/plain": [
       "{('Products', 'Brand'): <atoti.hierarchy.Hierarchy object at 0x000001BBFF977D50>, ('Sales', 'Sale ID'): <atoti.hierarchy.Hierarchy object at 0x000001BB82CA5AD0>, ('Sales', 'Product'): <atoti.hierarchy.Hierarchy object at 0x000001BB82C90210>, ('Products', 'Sub category'): <atoti.hierarchy.Hierarchy object at 0x000001BB82C8FE10>, ('Products', 'Category'): <atoti.hierarchy.Hierarchy object at 0x000001BB82C8FF90>, ('Products', 'Size'): <atoti.hierarchy.Hierarchy object at 0x000001BB82C8FB10>, ('Sales', 'Date'): <atoti.hierarchy.Hierarchy object at 0x000001BB82C8F8D0>, ('Products', 'Color'): <atoti.hierarchy.Hierarchy object at 0x000001BB82C8F450>, ('Sales', 'Shop'): <atoti.hierarchy.Hierarchy object at 0x000001BB82C8F5D0>}"
      ]
     },
     "execution_count": 23,
     "metadata": {
      "application/json": {
       "expanded": true,
       "root": "Dimensions"
      }
     },
     "output_type": "execute_result"
    }
   ],
   "source": [
    "h"
   ]
  },
  {
   "cell_type": "code",
   "execution_count": 26,
   "id": "d10087fe-27de-4848-9030-42570e6f9f8e",
   "metadata": {
    "atoti": {
     "widget": {
      "mapping": {
       "columns": [
        "ALL_MEASURES"
       ],
       "measures": [],
       "rows": [
        "[Sales].[Product].[Product]"
       ]
      },
      "query": {
       "mdx": "SELECT NON EMPTY Hierarchize(Descendants({[Sales].[Product].[ALL].[AllMember]}, 1, SELF_AND_BEFORE)) ON ROWS FROM [Sales] CELL PROPERTIES VALUE, FORMATTED_VALUE, BACK_COLOR, FORE_COLOR, FONT_FLAGS",
       "updateMode": "once"
      },
      "serverKey": "default",
      "widgetKey": "pivot-table"
     }
    }
   },
   "outputs": [
    {
     "data": {
      "application/vnd.atoti.widget.v0+json": {
       "sessionId": "1704710889_PJ9JPW",
       "sessionLocation": {
        "https": false,
        "port": 49404
       },
       "widgetCreationCode": "session.widget"
      },
      "text/html": [
       "<img height=\"352\" width=\"809\" src=\"data:image/png;base64,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\" />"
      ],
      "text/plain": [
       "Open the notebook in JupyterLab with the Atoti JupyterLab extension enabled to build this widget."
      ]
     },
     "metadata": {},
     "output_type": "display_data"
    }
   ],
   "source": [
    "session.widget"
   ]
  },
  {
   "cell_type": "code",
   "execution_count": 27,
   "id": "ade7a671-2451-4edf-86e1-0704da1a72dc",
   "metadata": {},
   "outputs": [],
   "source": [
    "m[\"Purchase price.VALUE\"] = tt.agg.single_value(products_table[\"Purchase price\"])"
   ]
  },
  {
   "cell_type": "code",
   "execution_count": 28,
   "id": "d0b7a31d-4d5d-4cdc-83ed-97fde8e1e6ad",
   "metadata": {},
   "outputs": [
    {
     "data": {
      "text/html": [
       "<div>\n",
       "<style scoped>\n",
       "    .dataframe tbody tr th:only-of-type {\n",
       "        vertical-align: middle;\n",
       "    }\n",
       "\n",
       "    .dataframe tbody tr th {\n",
       "        vertical-align: top;\n",
       "    }\n",
       "\n",
       "    .dataframe thead th {\n",
       "        text-align: right;\n",
       "    }\n",
       "</style>\n",
       "<table border=\"1\" class=\"dataframe\">\n",
       "  <thead>\n",
       "    <tr style=\"text-align: right;\">\n",
       "      <th></th>\n",
       "      <th>Purchase price.VALUE</th>\n",
       "    </tr>\n",
       "    <tr>\n",
       "      <th>Product</th>\n",
       "      <th></th>\n",
       "    </tr>\n",
       "  </thead>\n",
       "  <tbody>\n",
       "    <tr>\n",
       "      <th>BED_24</th>\n",
       "      <td>127.00</td>\n",
       "    </tr>\n",
       "    <tr>\n",
       "      <th>BED_25</th>\n",
       "      <td>252.00</td>\n",
       "    </tr>\n",
       "    <tr>\n",
       "      <th>BED_26</th>\n",
       "      <td>333.00</td>\n",
       "    </tr>\n",
       "    <tr>\n",
       "      <th>BED_27</th>\n",
       "      <td>375.00</td>\n",
       "    </tr>\n",
       "    <tr>\n",
       "      <th>BED_3</th>\n",
       "      <td>127.00</td>\n",
       "    </tr>\n",
       "    <tr>\n",
       "      <th>...</th>\n",
       "      <td>...</td>\n",
       "    </tr>\n",
       "    <tr>\n",
       "      <th>TSH_52</th>\n",
       "      <td>20.00</td>\n",
       "    </tr>\n",
       "    <tr>\n",
       "      <th>TSH_53</th>\n",
       "      <td>21.00</td>\n",
       "    </tr>\n",
       "    <tr>\n",
       "      <th>TSH_7</th>\n",
       "      <td>17.00</td>\n",
       "    </tr>\n",
       "    <tr>\n",
       "      <th>TSH_8</th>\n",
       "      <td>18.00</td>\n",
       "    </tr>\n",
       "    <tr>\n",
       "      <th>TSH_9</th>\n",
       "      <td>19.00</td>\n",
       "    </tr>\n",
       "  </tbody>\n",
       "</table>\n",
       "<p>61 rows × 1 columns</p>\n",
       "</div>"
      ],
      "text/plain": [
       "        Purchase price.VALUE\n",
       "Product                     \n",
       "BED_24                127.00\n",
       "BED_25                252.00\n",
       "BED_26                333.00\n",
       "BED_27                375.00\n",
       "BED_3                 127.00\n",
       "...                      ...\n",
       "TSH_52                 20.00\n",
       "TSH_53                 21.00\n",
       "TSH_7                  17.00\n",
       "TSH_8                  18.00\n",
       "TSH_9                  19.00\n",
       "\n",
       "[61 rows x 1 columns]"
      ]
     },
     "execution_count": 28,
     "metadata": {},
     "output_type": "execute_result"
    }
   ],
   "source": [
    "cube.query(m[\"Purchase price.VALUE\"], levels=[l[\"Product\"]])"
   ]
  },
  {
   "cell_type": "code",
   "execution_count": 30,
   "id": "2d62ecf6-b402-4603-b8bb-88214a8b2879",
   "metadata": {},
   "outputs": [
    {
     "data": {
      "text/html": [
       "<div>\n",
       "<style scoped>\n",
       "    .dataframe tbody tr th:only-of-type {\n",
       "        vertical-align: middle;\n",
       "    }\n",
       "\n",
       "    .dataframe tbody tr th {\n",
       "        vertical-align: top;\n",
       "    }\n",
       "\n",
       "    .dataframe thead th {\n",
       "        text-align: right;\n",
       "    }\n",
       "</style>\n",
       "<table border=\"1\" class=\"dataframe\">\n",
       "  <thead>\n",
       "    <tr style=\"text-align: right;\">\n",
       "      <th></th>\n",
       "      <th>City</th>\n",
       "      <th>State or region</th>\n",
       "      <th>Country</th>\n",
       "      <th>Shop size</th>\n",
       "    </tr>\n",
       "    <tr>\n",
       "      <th>Shop ID</th>\n",
       "      <th></th>\n",
       "      <th></th>\n",
       "      <th></th>\n",
       "      <th></th>\n",
       "    </tr>\n",
       "  </thead>\n",
       "  <tbody>\n",
       "    <tr>\n",
       "      <th>shop_6</th>\n",
       "      <td>San Antonio</td>\n",
       "      <td>Texas</td>\n",
       "      <td>USA</td>\n",
       "      <td>small</td>\n",
       "    </tr>\n",
       "    <tr>\n",
       "      <th>shop_14</th>\n",
       "      <td>Los Angeles</td>\n",
       "      <td>California</td>\n",
       "      <td>USA</td>\n",
       "      <td>small</td>\n",
       "    </tr>\n",
       "    <tr>\n",
       "      <th>shop_22</th>\n",
       "      <td>Marseille</td>\n",
       "      <td>Provence-Alpes-Côte d'Azur</td>\n",
       "      <td>France</td>\n",
       "      <td>small</td>\n",
       "    </tr>\n",
       "    <tr>\n",
       "      <th>shop_30</th>\n",
       "      <td>San Francisco</td>\n",
       "      <td>California</td>\n",
       "      <td>USA</td>\n",
       "      <td>medium</td>\n",
       "    </tr>\n",
       "    <tr>\n",
       "      <th>shop_38</th>\n",
       "      <td>Saint-Étienne</td>\n",
       "      <td>Auvergne-Rhône-Alpes</td>\n",
       "      <td>France</td>\n",
       "      <td>medium</td>\n",
       "    </tr>\n",
       "  </tbody>\n",
       "</table>\n",
       "</div>"
      ],
      "text/plain": [
       "                  City             State or region Country Shop size\n",
       "Shop ID                                                             \n",
       "shop_6     San Antonio                       Texas     USA     small\n",
       "shop_14    Los Angeles                  California     USA     small\n",
       "shop_22      Marseille  Provence-Alpes-Côte d'Azur  France     small\n",
       "shop_30  San Francisco                  California     USA    medium\n",
       "shop_38  Saint-Étienne        Auvergne-Rhône-Alpes  France    medium"
      ]
     },
     "execution_count": 30,
     "metadata": {},
     "output_type": "execute_result"
    }
   ],
   "source": [
    "shops_table = session.read_csv(\"shops.csv\", keys=[\"Shop ID\"])\n",
    "shops_table.head()"
   ]
  },
  {
   "cell_type": "code",
   "execution_count": 31,
   "id": "5a04d4ca-2fc9-4932-a920-b23e6642bcf4",
   "metadata": {},
   "outputs": [
    {
     "ename": "ExpatError",
     "evalue": "no element found: line 1, column 0",
     "output_type": "error",
     "traceback": [
      "\u001b[1;31m---------------------------------------------------------------------------\u001b[0m",
      "\u001b[1;31mExpatError\u001b[0m                                Traceback (most recent call last)",
      "Cell \u001b[1;32mIn[31], line 2\u001b[0m\n\u001b[0;32m      1\u001b[0m sales_table\u001b[38;5;241m.\u001b[39mjoin(shops_table, sales_table[\u001b[38;5;124m\"\u001b[39m\u001b[38;5;124mShop\u001b[39m\u001b[38;5;124m\"\u001b[39m] \u001b[38;5;241m==\u001b[39m shops_table[\u001b[38;5;124m\"\u001b[39m\u001b[38;5;124mShop ID\u001b[39m\u001b[38;5;124m\"\u001b[39m])\n\u001b[1;32m----> 2\u001b[0m session\u001b[38;5;241m.\u001b[39mtables\u001b[38;5;241m.\u001b[39mschema\n",
      "File \u001b[1;32m~\\anaconda3\\Lib\\site-packages\\atoti\\tables.py:157\u001b[0m, in \u001b[0;36mTables.schema\u001b[1;34m(self)\u001b[0m\n\u001b[0;32m    114\u001b[0m \u001b[38;5;250m\u001b[39m\u001b[38;5;124;03m\"\"\"Schema of the tables represented as a `Mermaid <https://mermaid.js.org>`__ entity relationship diagram.\u001b[39;00m\n\u001b[0;32m    115\u001b[0m \n\u001b[0;32m    116\u001b[0m \u001b[38;5;124;03mNote:\u001b[39;00m\n\u001b[1;32m   (...)\u001b[0m\n\u001b[0;32m    152\u001b[0m \n\u001b[0;32m    153\u001b[0m \u001b[38;5;124;03m\"\"\"\u001b[39;00m\n\u001b[0;32m    154\u001b[0m \u001b[38;5;28;01mif\u001b[39;00m (\n\u001b[0;32m    155\u001b[0m     \u001b[38;5;129;01mnot\u001b[39;00m get_env_flag(_ENABLE_HTML_REPR_ENV_VAR_NAME)\n\u001b[0;32m    156\u001b[0m ) \u001b[38;5;129;01mand\u001b[39;00m _jupyterlab_without_mermaid_support_installed():\n\u001b[1;32m--> 157\u001b[0m     \u001b[38;5;28;01mreturn\u001b[39;00m \u001b[38;5;28mself\u001b[39m\u001b[38;5;241m.\u001b[39m_graphviz_schema\n\u001b[0;32m    159\u001b[0m \u001b[38;5;28;01mreturn\u001b[39;00m \u001b[38;5;28mself\u001b[39m\u001b[38;5;241m.\u001b[39m_schema\n",
      "File \u001b[1;32m~\\anaconda3\\Lib\\site-packages\\atoti\\tables.py:164\u001b[0m, in \u001b[0;36mTables._graphviz_schema\u001b[1;34m(self)\u001b[0m\n\u001b[0;32m    162\u001b[0m \u001b[38;5;129m@property\u001b[39m\n\u001b[0;32m    163\u001b[0m \u001b[38;5;28;01mdef\u001b[39;00m \u001b[38;5;21m_graphviz_schema\u001b[39m(\u001b[38;5;28mself\u001b[39m) \u001b[38;5;241m-\u001b[39m\u001b[38;5;241m>\u001b[39m \u001b[38;5;28mobject\u001b[39m:\n\u001b[1;32m--> 164\u001b[0m     \u001b[38;5;28;01mreturn\u001b[39;00m \u001b[38;5;28mself\u001b[39m\u001b[38;5;241m.\u001b[39m_java_api\u001b[38;5;241m.\u001b[39mgenerate_schema_graph()\n",
      "File \u001b[1;32m~\\anaconda3\\Lib\\site-packages\\atoti\\_java_api.py:902\u001b[0m, in \u001b[0;36mJavaApi.generate_schema_graph\u001b[1;34m(self, cube_name)\u001b[0m\n\u001b[0;32m    898\u001b[0m \u001b[38;5;28;01mfrom\u001b[39;00m \u001b[38;5;21;01mIPython\u001b[39;00m\u001b[38;5;21;01m.\u001b[39;00m\u001b[38;5;21;01mdisplay\u001b[39;00m \u001b[38;5;28;01mimport\u001b[39;00m SVG\n\u001b[0;32m    900\u001b[0m \u001b[38;5;66;03m# pylint: enable=undeclared-dependency, nested-import\u001b[39;00m\n\u001b[1;32m--> 902\u001b[0m \u001b[38;5;28;01mreturn\u001b[39;00m SVG(filename\u001b[38;5;241m=\u001b[39mpath)\n",
      "File \u001b[1;32m~\\anaconda3\\Lib\\site-packages\\IPython\\core\\display.py:327\u001b[0m, in \u001b[0;36mDisplayObject.__init__\u001b[1;34m(self, data, url, filename, metadata)\u001b[0m\n\u001b[0;32m    324\u001b[0m \u001b[38;5;28;01melif\u001b[39;00m \u001b[38;5;28mself\u001b[39m\u001b[38;5;241m.\u001b[39mmetadata \u001b[38;5;129;01mis\u001b[39;00m \u001b[38;5;28;01mNone\u001b[39;00m:\n\u001b[0;32m    325\u001b[0m     \u001b[38;5;28mself\u001b[39m\u001b[38;5;241m.\u001b[39mmetadata \u001b[38;5;241m=\u001b[39m {}\n\u001b[1;32m--> 327\u001b[0m \u001b[38;5;28mself\u001b[39m\u001b[38;5;241m.\u001b[39mreload()\n\u001b[0;32m    328\u001b[0m \u001b[38;5;28mself\u001b[39m\u001b[38;5;241m.\u001b[39m_check_data()\n",
      "File \u001b[1;32m~\\anaconda3\\Lib\\site-packages\\IPython\\core\\display.py:354\u001b[0m, in \u001b[0;36mDisplayObject.reload\u001b[1;34m(self)\u001b[0m\n\u001b[0;32m    352\u001b[0m     encoding \u001b[38;5;241m=\u001b[39m \u001b[38;5;28;01mNone\u001b[39;00m \u001b[38;5;28;01mif\u001b[39;00m \u001b[38;5;124m\"\u001b[39m\u001b[38;5;124mb\u001b[39m\u001b[38;5;124m\"\u001b[39m \u001b[38;5;129;01min\u001b[39;00m \u001b[38;5;28mself\u001b[39m\u001b[38;5;241m.\u001b[39m_read_flags \u001b[38;5;28;01melse\u001b[39;00m \u001b[38;5;124m\"\u001b[39m\u001b[38;5;124mutf-8\u001b[39m\u001b[38;5;124m\"\u001b[39m\n\u001b[0;32m    353\u001b[0m     \u001b[38;5;28;01mwith\u001b[39;00m \u001b[38;5;28mopen\u001b[39m(\u001b[38;5;28mself\u001b[39m\u001b[38;5;241m.\u001b[39mfilename, \u001b[38;5;28mself\u001b[39m\u001b[38;5;241m.\u001b[39m_read_flags, encoding\u001b[38;5;241m=\u001b[39mencoding) \u001b[38;5;28;01mas\u001b[39;00m f:\n\u001b[1;32m--> 354\u001b[0m         \u001b[38;5;28mself\u001b[39m\u001b[38;5;241m.\u001b[39mdata \u001b[38;5;241m=\u001b[39m f\u001b[38;5;241m.\u001b[39mread()\n\u001b[0;32m    355\u001b[0m \u001b[38;5;28;01melif\u001b[39;00m \u001b[38;5;28mself\u001b[39m\u001b[38;5;241m.\u001b[39murl \u001b[38;5;129;01mis\u001b[39;00m \u001b[38;5;129;01mnot\u001b[39;00m \u001b[38;5;28;01mNone\u001b[39;00m:\n\u001b[0;32m    356\u001b[0m     \u001b[38;5;66;03m# Deferred import\u001b[39;00m\n\u001b[0;32m    357\u001b[0m     \u001b[38;5;28;01mfrom\u001b[39;00m \u001b[38;5;21;01murllib\u001b[39;00m\u001b[38;5;21;01m.\u001b[39;00m\u001b[38;5;21;01mrequest\u001b[39;00m \u001b[38;5;28;01mimport\u001b[39;00m urlopen\n",
      "File \u001b[1;32m~\\anaconda3\\Lib\\site-packages\\IPython\\core\\display.py:491\u001b[0m, in \u001b[0;36mSVG.data\u001b[1;34m(self, svg)\u001b[0m\n\u001b[0;32m    489\u001b[0m \u001b[38;5;66;03m# parse into dom object\u001b[39;00m\n\u001b[0;32m    490\u001b[0m \u001b[38;5;28;01mfrom\u001b[39;00m \u001b[38;5;21;01mxml\u001b[39;00m\u001b[38;5;21;01m.\u001b[39;00m\u001b[38;5;21;01mdom\u001b[39;00m \u001b[38;5;28;01mimport\u001b[39;00m minidom\n\u001b[1;32m--> 491\u001b[0m x \u001b[38;5;241m=\u001b[39m minidom\u001b[38;5;241m.\u001b[39mparseString(svg)\n\u001b[0;32m    492\u001b[0m \u001b[38;5;66;03m# get svg tag (should be 1)\u001b[39;00m\n\u001b[0;32m    493\u001b[0m found_svg \u001b[38;5;241m=\u001b[39m x\u001b[38;5;241m.\u001b[39mgetElementsByTagName(\u001b[38;5;124m'\u001b[39m\u001b[38;5;124msvg\u001b[39m\u001b[38;5;124m'\u001b[39m)\n",
      "File \u001b[1;32m~\\anaconda3\\Lib\\xml\\dom\\minidom.py:2000\u001b[0m, in \u001b[0;36mparseString\u001b[1;34m(string, parser)\u001b[0m\n\u001b[0;32m   1998\u001b[0m \u001b[38;5;28;01mif\u001b[39;00m parser \u001b[38;5;129;01mis\u001b[39;00m \u001b[38;5;28;01mNone\u001b[39;00m:\n\u001b[0;32m   1999\u001b[0m     \u001b[38;5;28;01mfrom\u001b[39;00m \u001b[38;5;21;01mxml\u001b[39;00m\u001b[38;5;21;01m.\u001b[39;00m\u001b[38;5;21;01mdom\u001b[39;00m \u001b[38;5;28;01mimport\u001b[39;00m expatbuilder\n\u001b[1;32m-> 2000\u001b[0m     \u001b[38;5;28;01mreturn\u001b[39;00m expatbuilder\u001b[38;5;241m.\u001b[39mparseString(string)\n\u001b[0;32m   2001\u001b[0m \u001b[38;5;28;01melse\u001b[39;00m:\n\u001b[0;32m   2002\u001b[0m     \u001b[38;5;28;01mfrom\u001b[39;00m \u001b[38;5;21;01mxml\u001b[39;00m\u001b[38;5;21;01m.\u001b[39;00m\u001b[38;5;21;01mdom\u001b[39;00m \u001b[38;5;28;01mimport\u001b[39;00m pulldom\n",
      "File \u001b[1;32m~\\anaconda3\\Lib\\xml\\dom\\expatbuilder.py:925\u001b[0m, in \u001b[0;36mparseString\u001b[1;34m(string, namespaces)\u001b[0m\n\u001b[0;32m    923\u001b[0m \u001b[38;5;28;01melse\u001b[39;00m:\n\u001b[0;32m    924\u001b[0m     builder \u001b[38;5;241m=\u001b[39m ExpatBuilder()\n\u001b[1;32m--> 925\u001b[0m \u001b[38;5;28;01mreturn\u001b[39;00m builder\u001b[38;5;241m.\u001b[39mparseString(string)\n",
      "File \u001b[1;32m~\\anaconda3\\Lib\\xml\\dom\\expatbuilder.py:223\u001b[0m, in \u001b[0;36mExpatBuilder.parseString\u001b[1;34m(self, string)\u001b[0m\n\u001b[0;32m    221\u001b[0m parser \u001b[38;5;241m=\u001b[39m \u001b[38;5;28mself\u001b[39m\u001b[38;5;241m.\u001b[39mgetParser()\n\u001b[0;32m    222\u001b[0m \u001b[38;5;28;01mtry\u001b[39;00m:\n\u001b[1;32m--> 223\u001b[0m     parser\u001b[38;5;241m.\u001b[39mParse(string, \u001b[38;5;28;01mTrue\u001b[39;00m)\n\u001b[0;32m    224\u001b[0m     \u001b[38;5;28mself\u001b[39m\u001b[38;5;241m.\u001b[39m_setup_subset(string)\n\u001b[0;32m    225\u001b[0m \u001b[38;5;28;01mexcept\u001b[39;00m ParseEscape:\n",
      "\u001b[1;31mExpatError\u001b[0m: no element found: line 1, column 0"
     ]
    }
   ],
   "source": [
    "sales_table.join(shops_table, sales_table[\"Shop\"] == shops_table[\"Shop ID\"])\n",
    "session.tables.schema"
   ]
  },
  {
   "cell_type": "code",
   "execution_count": 32,
   "id": "98561dae-f2f1-4198-aa89-f72beb244165",
   "metadata": {},
   "outputs": [],
   "source": [
    "m[\"Max price\"] = tt.agg.max(sales_table[\"Unit price\"])"
   ]
  },
  {
   "cell_type": "code",
   "execution_count": 33,
   "id": "ba98281b-67ce-4e65-abcc-5e1027c874b7",
   "metadata": {},
   "outputs": [
    {
     "data": {
      "text/html": [
       "<div>\n",
       "<style scoped>\n",
       "    .dataframe tbody tr th:only-of-type {\n",
       "        vertical-align: middle;\n",
       "    }\n",
       "\n",
       "    .dataframe tbody tr th {\n",
       "        vertical-align: top;\n",
       "    }\n",
       "\n",
       "    .dataframe thead th {\n",
       "        text-align: right;\n",
       "    }\n",
       "</style>\n",
       "<table border=\"1\" class=\"dataframe\">\n",
       "  <thead>\n",
       "    <tr style=\"text-align: right;\">\n",
       "      <th></th>\n",
       "      <th>Max price</th>\n",
       "    </tr>\n",
       "    <tr>\n",
       "      <th>Category</th>\n",
       "      <th></th>\n",
       "    </tr>\n",
       "  </thead>\n",
       "  <tbody>\n",
       "    <tr>\n",
       "      <th>Total</th>\n",
       "      <td>440.00</td>\n",
       "    </tr>\n",
       "    <tr>\n",
       "      <th>Cloth</th>\n",
       "      <td>60.00</td>\n",
       "    </tr>\n",
       "    <tr>\n",
       "      <th>Furniture</th>\n",
       "      <td>440.00</td>\n",
       "    </tr>\n",
       "  </tbody>\n",
       "</table>\n",
       "</div>"
      ],
      "text/plain": [
       "          Max price\n",
       "Category           \n",
       "Total        440.00\n",
       "Cloth         60.00\n",
       "Furniture    440.00"
      ]
     },
     "execution_count": 33,
     "metadata": {},
     "output_type": "execute_result"
    }
   ],
   "source": [
    "cube.query(m[\"Max price\"], include_totals=True, levels=[l[\"Category\"]])"
   ]
  },
  {
   "cell_type": "code",
   "execution_count": 41,
   "id": "2fca1498-2413-43f3-97b2-6bf0eb1e020b",
   "metadata": {
    "atoti": {
     "widget": {
      "filters": [
       {
        "dimensionName": "Sales",
        "hierarchyName": "Date",
        "isExclusionFilter": false,
        "members": [
         [
          "AllMember",
          "2021-01-06"
         ],
         [
          "AllMember",
          "2021-01-07"
         ],
         [
          "AllMember",
          "2021-01-08"
         ],
         [
          "AllMember",
          "2021-01-09"
         ],
         [
          "AllMember",
          "2021-01-10"
         ],
         [
          "AllMember",
          "2021-01-11"
         ],
         [
          "AllMember",
          "2021-01-12"
         ],
         [
          "AllMember",
          "2021-01-13"
         ],
         [
          "AllMember",
          "2021-01-14"
         ],
         [
          "AllMember",
          "2021-01-15"
         ],
         [
          "AllMember",
          "2021-01-16"
         ],
         [
          "AllMember",
          "2021-01-17"
         ],
         [
          "AllMember",
          "2021-01-18"
         ],
         [
          "AllMember",
          "2021-01-19"
         ],
         [
          "AllMember",
          "2021-01-20"
         ],
         [
          "AllMember",
          "2021-01-21"
         ],
         [
          "AllMember",
          "2021-01-22"
         ],
         [
          "AllMember",
          "2021-01-23"
         ],
         [
          "AllMember",
          "2021-01-24"
         ],
         [
          "AllMember",
          "2021-01-25"
         ],
         [
          "AllMember",
          "2021-01-26"
         ],
         [
          "AllMember",
          "2021-01-27"
         ],
         [
          "AllMember",
          "2021-01-28"
         ],
         [
          "AllMember",
          "2021-01-29"
         ],
         [
          "AllMember",
          "2021-01-30"
         ],
         [
          "AllMember",
          "2021-01-31"
         ],
         [
          "AllMember",
          "2021-02-01"
         ],
         [
          "AllMember",
          "2021-02-02"
         ],
         [
          "AllMember",
          "2021-02-03"
         ],
         [
          "AllMember",
          "2021-02-04"
         ]
        ],
        "type": "members"
       }
      ],
      "mapping": {
       "horizontalSubplots": [],
       "secondaryValues": [
        "[Measures].[Amount.MEAN]",
        "[Measures].[Quantity.SUM]"
       ],
       "splitBy": [
        "ALL_MEASURES"
       ],
       "values": [
        "[Measures].[Amount.SUM]",
        "[Measures].[Unit price.SUM]"
       ],
       "verticalSubplots": [],
       "xAxis": [
        "[Sales].[Date].[Date]"
       ]
      },
      "query": {
       "mdx": "SELECT NON EMPTY Crossjoin(Hierarchize(Descendants({[Sales].[Date].[ALL].[AllMember]}, 1, SELF_AND_BEFORE)), {[Measures].[Amount.SUM], [Measures].[Unit price.SUM], [Measures].[Amount.MEAN], [Measures].[Quantity.SUM]}) ON COLUMNS FROM [Sales] CELL PROPERTIES VALUE, FORMATTED_VALUE, BACK_COLOR, FORE_COLOR, FONT_FLAGS",
       "updateMode": "once"
      },
      "serverKey": "default",
      "widgetKey": "plotly-line-chart"
     }
    },
    "scrolled": true
   },
   "outputs": [
    {
     "data": {
      "application/vnd.atoti.widget.v0+json": {
       "sessionId": "1704710889_PJ9JPW",
       "sessionLocation": {
        "https": false,
        "port": 49404
       },
       "widgetCreationCode": "session.widget"
      },
      "text/plain": [
       "Open the notebook in JupyterLab with the Atoti JupyterLab extension enabled to build this widget."
      ]
     },
     "metadata": {},
     "output_type": "display_data"
    }
   ],
   "source": [
    "m[\"Amount.SUM\"] = tt.agg.sum(sales_table[\"Quantity\"] * sales_table[\"Unit price\"])\n",
    "m[\"Amount.MEAN\"] = tt.agg.mean(\n",
    "    sales_table[\"Quantity\"] * sales_table[\"Unit price\"],\n",
    ")\n",
    "session.widget"
   ]
  },
  {
   "cell_type": "code",
   "execution_count": 36,
   "id": "0d82c213-699a-4453-aee4-5bfd5442f146",
   "metadata": {},
   "outputs": [],
   "source": [
    "cost = tt.agg.sum(\n",
    "    m[\"Quantity.SUM\"] * tt.agg.single_value(products_table[\"Purchase price\"]),\n",
    "    scope=tt.OriginScope(l[\"Product\"]),\n",
    ")"
   ]
  },
  {
   "cell_type": "code",
   "execution_count": 37,
   "id": "228aaf57-b993-42d1-b9ca-06db5099d237",
   "metadata": {},
   "outputs": [],
   "source": [
    "m[\"Margin\"] = m[\"Amount.SUM\"] - cost"
   ]
  },
  {
   "cell_type": "code",
   "execution_count": 38,
   "id": "308a996b-5d63-4d7c-a557-f692c1ed857e",
   "metadata": {},
   "outputs": [],
   "source": [
    "m[\"Margin rate\"] = m[\"Margin\"] / m[\"Amount.SUM\"]"
   ]
  },
  {
   "cell_type": "code",
   "execution_count": 39,
   "id": "738da8d1-326e-4b4a-84da-207455cde54c",
   "metadata": {},
   "outputs": [
    {
     "data": {
      "text/html": [
       "<div>\n",
       "<style scoped>\n",
       "    .dataframe tbody tr th:only-of-type {\n",
       "        vertical-align: middle;\n",
       "    }\n",
       "\n",
       "    .dataframe tbody tr th {\n",
       "        vertical-align: top;\n",
       "    }\n",
       "\n",
       "    .dataframe thead th {\n",
       "        text-align: right;\n",
       "    }\n",
       "</style>\n",
       "<table border=\"1\" class=\"dataframe\">\n",
       "  <thead>\n",
       "    <tr style=\"text-align: right;\">\n",
       "      <th></th>\n",
       "      <th>Margin</th>\n",
       "      <th>Margin rate</th>\n",
       "    </tr>\n",
       "    <tr>\n",
       "      <th>Product</th>\n",
       "      <th></th>\n",
       "      <th></th>\n",
       "    </tr>\n",
       "  </thead>\n",
       "  <tbody>\n",
       "    <tr>\n",
       "      <th>BED_24</th>\n",
       "      <td>3,082.00</td>\n",
       "      <td>.15</td>\n",
       "    </tr>\n",
       "    <tr>\n",
       "      <th>BED_25</th>\n",
       "      <td>6,336.00</td>\n",
       "      <td>.16</td>\n",
       "    </tr>\n",
       "    <tr>\n",
       "      <th>BED_26</th>\n",
       "      <td>8,060.00</td>\n",
       "      <td>.16</td>\n",
       "    </tr>\n",
       "    <tr>\n",
       "      <th>BED_27</th>\n",
       "      <td>8,580.00</td>\n",
       "      <td>.15</td>\n",
       "    </tr>\n",
       "    <tr>\n",
       "      <th>BED_3</th>\n",
       "      <td>3,036.00</td>\n",
       "      <td>.15</td>\n",
       "    </tr>\n",
       "    <tr>\n",
       "      <th>...</th>\n",
       "      <td>...</td>\n",
       "      <td>...</td>\n",
       "    </tr>\n",
       "    <tr>\n",
       "      <th>TSH_52</th>\n",
       "      <td>520.00</td>\n",
       "      <td>.17</td>\n",
       "    </tr>\n",
       "    <tr>\n",
       "      <th>TSH_53</th>\n",
       "      <td>396.00</td>\n",
       "      <td>.12</td>\n",
       "    </tr>\n",
       "    <tr>\n",
       "      <th>TSH_7</th>\n",
       "      <td>393.00</td>\n",
       "      <td>.15</td>\n",
       "    </tr>\n",
       "    <tr>\n",
       "      <th>TSH_8</th>\n",
       "      <td>264.00</td>\n",
       "      <td>.10</td>\n",
       "    </tr>\n",
       "    <tr>\n",
       "      <th>TSH_9</th>\n",
       "      <td>390.00</td>\n",
       "      <td>.14</td>\n",
       "    </tr>\n",
       "  </tbody>\n",
       "</table>\n",
       "<p>61 rows × 2 columns</p>\n",
       "</div>"
      ],
      "text/plain": [
       "           Margin Margin rate\n",
       "Product                      \n",
       "BED_24   3,082.00         .15\n",
       "BED_25   6,336.00         .16\n",
       "BED_26   8,060.00         .16\n",
       "BED_27   8,580.00         .15\n",
       "BED_3    3,036.00         .15\n",
       "...           ...         ...\n",
       "TSH_52     520.00         .17\n",
       "TSH_53     396.00         .12\n",
       "TSH_7      393.00         .15\n",
       "TSH_8      264.00         .10\n",
       "TSH_9      390.00         .14\n",
       "\n",
       "[61 rows x 2 columns]"
      ]
     },
     "execution_count": 39,
     "metadata": {},
     "output_type": "execute_result"
    }
   ],
   "source": [
    "cube.query(m[\"Margin\"], m[\"Margin rate\"], levels=[l[\"Product\"]])"
   ]
  },
  {
   "cell_type": "code",
   "execution_count": 40,
   "id": "4e5660b9-4ff9-406a-9214-acb185eaa3eb",
   "metadata": {
    "atoti": {
     "widget": {
      "filters": [
       {
        "dimensionName": "Sales",
        "hierarchyName": "Product",
        "levelName": "Product",
        "limit": 10,
        "measureName": "Margin rate",
        "scope": "overall",
        "topBottomMode": "TopCount",
        "type": "topBottomMembers"
       }
      ],
      "mapping": {
       "columns": [
        "ALL_MEASURES"
       ],
       "measures": [
        "[Measures].[Amount.MEAN]",
        "[Measures].[Margin]",
        "[Measures].[Margin rate]"
       ],
       "rows": [
        "[Sales].[Product].[Product]"
       ]
      },
      "query": {
       "mdx": "SELECT NON EMPTY Hierarchize(Descendants({[Sales].[Product].[ALL].[AllMember]}, 1, SELF_AND_BEFORE)) ON ROWS, NON EMPTY {[Measures].[Amount.MEAN], [Measures].[Margin], [Measures].[Margin rate]} ON COLUMNS FROM [Sales] CELL PROPERTIES VALUE, FORMATTED_VALUE, BACK_COLOR, FORE_COLOR, FONT_FLAGS",
       "updateMode": "once"
      },
      "serverKey": "default",
      "widgetKey": "pivot-table"
     }
    }
   },
   "outputs": [
    {
     "data": {
      "application/vnd.atoti.widget.v0+json": {
       "sessionId": "1704710889_PJ9JPW",
       "sessionLocation": {
        "https": false,
        "port": 49404
       },
       "widgetCreationCode": "session.widget"
      },
      "text/html": [
       "<img height=\"352\" width=\"809\" src=\"data:image/png;base64,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\" />"
      ],
      "text/plain": [
       "Open the notebook in JupyterLab with the Atoti JupyterLab extension enabled to build this widget."
      ]
     },
     "metadata": {},
     "output_type": "display_data"
    }
   ],
   "source": [
    "session.widget"
   ]
  },
  {
   "cell_type": "code",
   "execution_count": 42,
   "id": "143da72a-2421-48be-99e7-224605400bb0",
   "metadata": {},
   "outputs": [],
   "source": [
    "m[\"Cumulative amount\"] = tt.agg.sum(\n",
    "    m[\"Amount.SUM\"], scope=tt.CumulativeScope(level=l[\"Date\"])\n",
    ")"
   ]
  },
  {
   "cell_type": "code",
   "execution_count": 43,
   "id": "11822d13-b29d-41a1-b31e-2e372f520f3f",
   "metadata": {
    "scrolled": true
   },
   "outputs": [
    {
     "data": {
      "application/vnd.atoti.widget.v0+json": {
       "sessionId": "1704710889_PJ9JPW",
       "sessionLocation": {
        "https": false,
        "port": 49404
       },
       "widgetCreationCode": "session.widget"
      },
      "text/html": [
       "<img height=\"352\" width=\"792\" src=\"data:image/png;base64,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\" />"
      ],
      "text/plain": [
       "Open the notebook in JupyterLab with the Atoti JupyterLab extension enabled to build this widget."
      ]
     },
     "metadata": {},
     "output_type": "display_data"
    }
   ],
   "source": [
    "\n",
    "session.widget"
   ]
  },
  {
   "cell_type": "code",
   "execution_count": 44,
   "id": "bb5c9928-0ccd-45d7-a0f8-4b5c3062478f",
   "metadata": {},
   "outputs": [],
   "source": [
    "m[\"Average amount per shop\"] = tt.agg.mean(\n",
    "    m[\"Amount.SUM\"], scope=tt.OriginScope(l[\"Shop\"])\n",
    ")\n"
   ]
  },
  {
   "cell_type": "code",
   "execution_count": 45,
   "id": "d3e51019-7a71-4f8d-ab7c-e87792bd72e3",
   "metadata": {},
   "outputs": [
    {
     "data": {
      "text/html": [
       "<div>\n",
       "<style scoped>\n",
       "    .dataframe tbody tr th:only-of-type {\n",
       "        vertical-align: middle;\n",
       "    }\n",
       "\n",
       "    .dataframe tbody tr th {\n",
       "        vertical-align: top;\n",
       "    }\n",
       "\n",
       "    .dataframe thead th {\n",
       "        text-align: right;\n",
       "    }\n",
       "</style>\n",
       "<table border=\"1\" class=\"dataframe\">\n",
       "  <thead>\n",
       "    <tr style=\"text-align: right;\">\n",
       "      <th></th>\n",
       "      <th>Average amount per shop</th>\n",
       "    </tr>\n",
       "    <tr>\n",
       "      <th>Sub category</th>\n",
       "      <th></th>\n",
       "    </tr>\n",
       "  </thead>\n",
       "  <tbody>\n",
       "    <tr>\n",
       "      <th>Total</th>\n",
       "      <td>24,036.58</td>\n",
       "    </tr>\n",
       "    <tr>\n",
       "      <th>Bed</th>\n",
       "      <td>12,728.88</td>\n",
       "    </tr>\n",
       "    <tr>\n",
       "      <th>Chair</th>\n",
       "      <td>601.50</td>\n",
       "    </tr>\n",
       "    <tr>\n",
       "      <th>Hoodie</th>\n",
       "      <td>1,403.20</td>\n",
       "    </tr>\n",
       "    <tr>\n",
       "      <th>Shoes</th>\n",
       "      <td>3,184.50</td>\n",
       "    </tr>\n",
       "    <tr>\n",
       "      <th>T-shirt</th>\n",
       "      <td>1,095.00</td>\n",
       "    </tr>\n",
       "    <tr>\n",
       "      <th>Table</th>\n",
       "      <td>5,023.50</td>\n",
       "    </tr>\n",
       "  </tbody>\n",
       "</table>\n",
       "</div>"
      ],
      "text/plain": [
       "             Average amount per shop\n",
       "Sub category                        \n",
       "Total                      24,036.58\n",
       "Bed                        12,728.88\n",
       "Chair                         601.50\n",
       "Hoodie                      1,403.20\n",
       "Shoes                       3,184.50\n",
       "T-shirt                     1,095.00\n",
       "Table                       5,023.50"
      ]
     },
     "execution_count": 45,
     "metadata": {},
     "output_type": "execute_result"
    }
   ],
   "source": [
    "cube.query(\n",
    "    m[\"Average amount per shop\"], include_totals=True, levels=[l[\"Sub category\"]]\n",
    ")"
   ]
  },
  {
   "cell_type": "code",
   "execution_count": 46,
   "id": "1a1015ab-76a0-4831-84eb-9f1b3b225bf1",
   "metadata": {},
   "outputs": [],
   "source": [
    "h[\"Product\"] = [l[\"Category\"], l[\"Sub category\"], l[\"Product\"]]"
   ]
  },
  {
   "cell_type": "code",
   "execution_count": 47,
   "id": "da25f875-e470-4a38-b083-c98c88a191be",
   "metadata": {},
   "outputs": [],
   "source": [
    "del h[\"Category\"]\n",
    "del h[\"Sub category\"]"
   ]
  },
  {
   "cell_type": "code",
   "execution_count": 48,
   "id": "a01c3aa3-6e13-42c2-a85c-fc1574a94509",
   "metadata": {},
   "outputs": [
    {
     "data": {
      "application/json": {
       "Products": {
        "Brand": [
         "Brand"
        ],
        "Color": [
         "Color"
        ],
        "Product": [
         "Category",
         "Sub category",
         "Product"
        ],
        "Size": [
         "Size"
        ]
       },
       "Sales": {
        "Date": [
         "Date"
        ],
        "Product": [
         "Product"
        ],
        "Sale ID": [
         "Sale ID"
        ],
        "Shop": [
         "Shop"
        ]
       },
       "Shops": {
        "City": [
         "City"
        ],
        "Country": [
         "Country"
        ],
        "Shop size": [
         "Shop size"
        ],
        "State or region": [
         "State or region"
        ]
       }
      },
      "text/html": [
       "<ul>\n",
       "<li>Dimensions\n",
       "  <ul>\n",
       "  <li>Products\n",
       "    <ul>\n",
       "    <li>Brand\n",
       "      <ol>\n",
       "      <li>Brand</li>\n",
       "      </ol>    </li>\n",
       "    <li>Color\n",
       "      <ol>\n",
       "      <li>Color</li>\n",
       "      </ol>    </li>\n",
       "    <li>Product\n",
       "      <ol>\n",
       "      <li>Category</li>\n",
       "      <li>Sub category</li>\n",
       "      <li>Product</li>\n",
       "      </ol>    </li>\n",
       "    <li>Size\n",
       "      <ol>\n",
       "      <li>Size</li>\n",
       "      </ol>    </li>\n",
       "    </ul>\n",
       "  </li>\n",
       "  <li>Sales\n",
       "    <ul>\n",
       "    <li>Date\n",
       "      <ol>\n",
       "      <li>Date</li>\n",
       "      </ol>    </li>\n",
       "    <li>Product\n",
       "      <ol>\n",
       "      <li>Product</li>\n",
       "      </ol>    </li>\n",
       "    <li>Sale ID\n",
       "      <ol>\n",
       "      <li>Sale ID</li>\n",
       "      </ol>    </li>\n",
       "    <li>Shop\n",
       "      <ol>\n",
       "      <li>Shop</li>\n",
       "      </ol>    </li>\n",
       "    </ul>\n",
       "  </li>\n",
       "  <li>Shops\n",
       "    <ul>\n",
       "    <li>City\n",
       "      <ol>\n",
       "      <li>City</li>\n",
       "      </ol>    </li>\n",
       "    <li>Country\n",
       "      <ol>\n",
       "      <li>Country</li>\n",
       "      </ol>    </li>\n",
       "    <li>Shop size\n",
       "      <ol>\n",
       "      <li>Shop size</li>\n",
       "      </ol>    </li>\n",
       "    <li>State or region\n",
       "      <ol>\n",
       "      <li>State or region</li>\n",
       "      </ol>    </li>\n",
       "    </ul>\n",
       "  </li>\n",
       "  </ul>\n",
       "</li>\n",
       "</ul>\n"
      ],
      "text/plain": [
       "{('Products', 'Brand'): <atoti.hierarchy.Hierarchy object at 0x000001BB83A68DD0>, ('Sales', 'Sale ID'): <atoti.hierarchy.Hierarchy object at 0x000001BB83A53550>, ('Shops', 'Shop size'): <atoti.hierarchy.Hierarchy object at 0x000001BB83AF3B90>, ('Sales', 'Product'): <atoti.hierarchy.Hierarchy object at 0x000001BB83AF3D10>, ('Products', 'Size'): <atoti.hierarchy.Hierarchy object at 0x000001BB83AF3E90>, ('Shops', 'State or region'): <atoti.hierarchy.Hierarchy object at 0x000001BB83AF4050>, ('Shops', 'City'): <atoti.hierarchy.Hierarchy object at 0x000001BB83AF41D0>, ('Sales', 'Date'): <atoti.hierarchy.Hierarchy object at 0x000001BB83AF4350>, ('Products', 'Product'): <atoti.hierarchy.Hierarchy object at 0x000001BB83AF44D0>, ('Shops', 'Country'): <atoti.hierarchy.Hierarchy object at 0x000001BB83AF47D0>, ('Products', 'Color'): <atoti.hierarchy.Hierarchy object at 0x000001BB83AF4950>, ('Sales', 'Shop'): <atoti.hierarchy.Hierarchy object at 0x000001BB83AF4AD0>}"
      ]
     },
     "execution_count": 48,
     "metadata": {
      "application/json": {
       "expanded": true,
       "root": "Dimensions"
      }
     },
     "output_type": "execute_result"
    }
   ],
   "source": [
    "h"
   ]
  },
  {
   "cell_type": "code",
   "execution_count": 49,
   "id": "d0243be7-c975-4e00-8ffa-29632a8cfae5",
   "metadata": {},
   "outputs": [],
   "source": [
    "h[\"Geography\"] = [\n",
    "    shops_table[\"Country\"],\n",
    "    shops_table[\"State or region\"],\n",
    "    shops_table[\"City\"],\n",
    "]\n",
    "del h[\"Country\"]\n",
    "del h[\"State or region\"]\n",
    "del h[\"City\"]"
   ]
  },
  {
   "cell_type": "code",
   "execution_count": 50,
   "id": "e50088ad-bbdd-4971-b675-2c68f86aee6a",
   "metadata": {},
   "outputs": [
    {
     "data": {
      "application/json": {
       "Location": {
        "Geography": [
         "Country",
         "State or region",
         "City"
        ]
       },
       "Products": {
        "Brand": [
         "Brand"
        ],
        "Color": [
         "Color"
        ],
        "Product": [
         "Category",
         "Sub category",
         "Product"
        ],
        "Size": [
         "Size"
        ]
       },
       "Sales": {
        "Date": [
         "Date"
        ],
        "Product": [
         "Product"
        ],
        "Sale ID": [
         "Sale ID"
        ],
        "Shop": [
         "Shop"
        ]
       },
       "Shops": {
        "Shop size": [
         "Shop size"
        ]
       }
      },
      "text/html": [
       "<ul>\n",
       "<li>Dimensions\n",
       "  <ul>\n",
       "  <li>Location\n",
       "    <ul>\n",
       "    <li>Geography\n",
       "      <ol>\n",
       "      <li>Country</li>\n",
       "      <li>State or region</li>\n",
       "      <li>City</li>\n",
       "      </ol>    </li>\n",
       "    </ul>\n",
       "  </li>\n",
       "  <li>Products\n",
       "    <ul>\n",
       "    <li>Brand\n",
       "      <ol>\n",
       "      <li>Brand</li>\n",
       "      </ol>    </li>\n",
       "    <li>Color\n",
       "      <ol>\n",
       "      <li>Color</li>\n",
       "      </ol>    </li>\n",
       "    <li>Product\n",
       "      <ol>\n",
       "      <li>Category</li>\n",
       "      <li>Sub category</li>\n",
       "      <li>Product</li>\n",
       "      </ol>    </li>\n",
       "    <li>Size\n",
       "      <ol>\n",
       "      <li>Size</li>\n",
       "      </ol>    </li>\n",
       "    </ul>\n",
       "  </li>\n",
       "  <li>Sales\n",
       "    <ul>\n",
       "    <li>Date\n",
       "      <ol>\n",
       "      <li>Date</li>\n",
       "      </ol>    </li>\n",
       "    <li>Product\n",
       "      <ol>\n",
       "      <li>Product</li>\n",
       "      </ol>    </li>\n",
       "    <li>Sale ID\n",
       "      <ol>\n",
       "      <li>Sale ID</li>\n",
       "      </ol>    </li>\n",
       "    <li>Shop\n",
       "      <ol>\n",
       "      <li>Shop</li>\n",
       "      </ol>    </li>\n",
       "    </ul>\n",
       "  </li>\n",
       "  <li>Shops\n",
       "    <ul>\n",
       "    <li>Shop size\n",
       "      <ol>\n",
       "      <li>Shop size</li>\n",
       "      </ol>    </li>\n",
       "    </ul>\n",
       "  </li>\n",
       "  </ul>\n",
       "</li>\n",
       "</ul>\n"
      ],
      "text/plain": [
       "{('Products', 'Brand'): <atoti.hierarchy.Hierarchy object at 0x000001BB83AA9D90>, ('Sales', 'Sale ID'): <atoti.hierarchy.Hierarchy object at 0x000001BB83AAB810>, ('Shops', 'Shop size'): <atoti.hierarchy.Hierarchy object at 0x000001BB83AAA210>, ('Sales', 'Product'): <atoti.hierarchy.Hierarchy object at 0x000001BB83AA8A10>, ('Products', 'Size'): <atoti.hierarchy.Hierarchy object at 0x000001BB83AABBD0>, ('Sales', 'Date'): <atoti.hierarchy.Hierarchy object at 0x000001BB83AAAD50>, ('Products', 'Product'): <atoti.hierarchy.Hierarchy object at 0x000001BB83AE8BD0>, ('Products', 'Color'): <atoti.hierarchy.Hierarchy object at 0x000001BB83AEBD50>, ('Sales', 'Shop'): <atoti.hierarchy.Hierarchy object at 0x000001BB83AEAB50>, ('Location', 'Geography'): <atoti.hierarchy.Hierarchy object at 0x000001BB83AE8E10>}"
      ]
     },
     "execution_count": 50,
     "metadata": {
      "application/json": {
       "expanded": true,
       "root": "Dimensions"
      }
     },
     "output_type": "execute_result"
    }
   ],
   "source": [
    "h[\"Geography\"].dimension = \"Location\"\n",
    "h"
   ]
  },
  {
   "cell_type": "code",
   "execution_count": 51,
   "id": "732ed4b5-d10f-4e6c-a455-dfc2a962364a",
   "metadata": {},
   "outputs": [],
   "source": [
    "m[\"Parent category amount\"] = tt.parent_value(\n",
    "    m[\"Amount.SUM\"], degrees={h[(\"Products\", \"Product\")]: 1}\n",
    ")"
   ]
  },
  {
   "cell_type": "code",
   "execution_count": 52,
   "id": "6ad6b782-2bcd-4ad1-abe3-ba3b665c3665",
   "metadata": {},
   "outputs": [],
   "source": [
    "m[\"Percent of parent amount\"] = m[\"Amount.SUM\"] / m[\"Parent category amount\"]"
   ]
  },
  {
   "cell_type": "code",
   "execution_count": 53,
   "id": "5f898b1c-8bcf-4d65-b85e-d44327fa6209",
   "metadata": {
    "atoti": {
     "widget": {
      "mapping": {
       "columns": [
        "ALL_MEASURES"
       ],
       "measures": [
        "[Measures].[Percent of parent amount]"
       ],
       "rows": [
        "[Products].[Product].[Category] => [Products].[Product].[Product]"
       ]
      },
      "query": {
       "mdx": "SELECT NON EMPTY Hierarchize(Union(Descendants({[Products].[Product].[ALL].[AllMember]}, 1, SELF_AND_BEFORE), Descendants({[Products].[Product].[ALL].[AllMember].[Cloth]}, [Products].[Product].[Sub category]), Descendants({[Products].[Product].[ALL].[AllMember].[Furniture]}, [Products].[Product].[Sub category]), Descendants({[Products].[Product].[ALL].[AllMember].[Cloth].[Hoodie]}, [Products].[Product].[Product]))) ON ROWS, NON EMPTY {[Measures].[Percent of parent amount]} ON COLUMNS FROM [Sales] CELL PROPERTIES VALUE, FORMATTED_VALUE, BACK_COLOR, FORE_COLOR, FONT_FLAGS",
       "updateMode": "once"
      },
      "serverKey": "default",
      "widgetKey": "pivot-table"
     }
    }
   },
   "outputs": [
    {
     "data": {
      "application/vnd.atoti.widget.v0+json": {
       "sessionId": "1704710889_PJ9JPW",
       "sessionLocation": {
        "https": false,
        "port": 49404
       },
       "widgetCreationCode": "session.widget"
      },
      "text/html": [
       "<img height=\"352\" width=\"809\" src=\"data:image/png;base64,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\" />"
      ],
      "text/plain": [
       "Open the notebook in JupyterLab with the Atoti JupyterLab extension enabled to build this widget."
      ]
     },
     "metadata": {},
     "output_type": "display_data"
    }
   ],
   "source": [
    "session.widget"
   ]
  },
  {
   "cell_type": "code",
   "execution_count": 54,
   "id": "4600055c-e608-4df3-9524-f6ca144ce01a",
   "metadata": {},
   "outputs": [],
   "source": [
    "del m[\"Unit price.SUM\"]"
   ]
  },
  {
   "cell_type": "code",
   "execution_count": 55,
   "id": "bd6e363b-ea61-4050-ba76-0f0af1bc34d3",
   "metadata": {},
   "outputs": [],
   "source": [
    "m[\"Parent category amount\"].visible = False"
   ]
  },
  {
   "cell_type": "code",
   "execution_count": 56,
   "id": "22853c6d-6587-4dbb-b781-77dabb6e9283",
   "metadata": {},
   "outputs": [],
   "source": [
    "for measure in [\n",
    "    m[\"Amount.MEAN\"],\n",
    "    m[\"Amount.SUM\"],\n",
    "    m[\"Average amount per shop\"],\n",
    "    m[\"Cumulative amount\"],\n",
    "    m[\"Percent of parent amount\"],\n",
    "]:\n",
    "    measure.folder = \"Amount\""
   ]
  },
  {
   "cell_type": "code",
   "execution_count": 57,
   "id": "d4ae6a4d-2cf3-436b-9a44-b729c6cd82b3",
   "metadata": {},
   "outputs": [
    {
     "data": {
      "application/json": {
       "Margin": {
        "formatter": "DOUBLE[#,###.00]"
       },
       "Margin rate": {
        "formatter": "DOUBLE[#,###.00]"
       },
       "Max price": {
        "formatter": "DOUBLE[#,###.00]"
       },
       "Purchase price.VALUE": {
        "formatter": "DOUBLE[#,###.00]"
       },
       "Quantity.MEAN": {
        "formatter": "DOUBLE[#,###.00]"
       },
       "Quantity.SUM": {
        "formatter": "DOUBLE[#,###.00]"
       },
       "Unit price.MEAN": {
        "formatter": "DOUBLE[#,###.00]"
       },
       "contributors.COUNT": {
        "formatter": "INT[#,###]"
       },
       "📁 Amount": {
        "Amount.MEAN": {
         "formatter": "DOUBLE[#,###.00]"
        },
        "Amount.SUM": {
         "formatter": "DOUBLE[#,###.00]"
        },
        "Average amount per shop": {
         "formatter": "DOUBLE[#,###.00]"
        },
        "Cumulative amount": {
         "formatter": "DOUBLE[#,###.00]"
        },
        "Percent of parent amount": {
         "formatter": "DOUBLE[#,###.00]"
        }
       }
      },
      "text/html": [
       "<ul>\n",
       "<li>Measures\n",
       "  <ul>\n",
       "  <li>📁 Amount\n",
       "    <ul>\n",
       "    <li>Amount.MEAN\n",
       "      <ul>\n",
       "      <li>formatter: DOUBLE[#,###.00]</li>\n",
       "      </ul>\n",
       "    </li>\n",
       "    <li>Amount.SUM\n",
       "      <ul>\n",
       "      <li>formatter: DOUBLE[#,###.00]</li>\n",
       "      </ul>\n",
       "    </li>\n",
       "    <li>Average amount per shop\n",
       "      <ul>\n",
       "      <li>formatter: DOUBLE[#,###.00]</li>\n",
       "      </ul>\n",
       "    </li>\n",
       "    <li>Cumulative amount\n",
       "      <ul>\n",
       "      <li>formatter: DOUBLE[#,###.00]</li>\n",
       "      </ul>\n",
       "    </li>\n",
       "    <li>Percent of parent amount\n",
       "      <ul>\n",
       "      <li>formatter: DOUBLE[#,###.00]</li>\n",
       "      </ul>\n",
       "    </li>\n",
       "    </ul>\n",
       "  </li>\n",
       "  <li>Margin\n",
       "    <ul>\n",
       "    <li>formatter: DOUBLE[#,###.00]</li>\n",
       "    </ul>\n",
       "  </li>\n",
       "  <li>Margin rate\n",
       "    <ul>\n",
       "    <li>formatter: DOUBLE[#,###.00]</li>\n",
       "    </ul>\n",
       "  </li>\n",
       "  <li>Max price\n",
       "    <ul>\n",
       "    <li>formatter: DOUBLE[#,###.00]</li>\n",
       "    </ul>\n",
       "  </li>\n",
       "  <li>Purchase price.VALUE\n",
       "    <ul>\n",
       "    <li>formatter: DOUBLE[#,###.00]</li>\n",
       "    </ul>\n",
       "  </li>\n",
       "  <li>Quantity.MEAN\n",
       "    <ul>\n",
       "    <li>formatter: DOUBLE[#,###.00]</li>\n",
       "    </ul>\n",
       "  </li>\n",
       "  <li>Quantity.SUM\n",
       "    <ul>\n",
       "    <li>formatter: DOUBLE[#,###.00]</li>\n",
       "    </ul>\n",
       "  </li>\n",
       "  <li>Unit price.MEAN\n",
       "    <ul>\n",
       "    <li>formatter: DOUBLE[#,###.00]</li>\n",
       "    </ul>\n",
       "  </li>\n",
       "  <li>contributors.COUNT\n",
       "    <ul>\n",
       "    <li>formatter: INT[#,###]</li>\n",
       "    </ul>\n",
       "  </li>\n",
       "  </ul>\n",
       "</li>\n",
       "</ul>\n"
      ],
      "text/plain": [
       "{'contributors.COUNT': <atoti.measure.Measure object at 0x000001BB83AE8810>, 'update.TIMESTAMP': <atoti.measure.Measure object at 0x000001BB83AE8E10>, 'Purchase price.VALUE': <atoti.measure.Measure object at 0x000001BB82C5D390>, 'Max price': <atoti.measure.Measure object at 0x000001BB83AEA050>, 'Amount.SUM': <atoti.measure.Measure object at 0x000001BB828BD290>, 'Amount.MEAN': <atoti.measure.Measure object at 0x000001BB828BDD50>, '__hidden_0_AGGREGATED': <atoti.measure.Measure object at 0x000001BB828BE110>, '__hidden_1_CALCULATED': <atoti.measure.Measure object at 0x000001BB828BCED0>, '__hidden_2_LEAF_AGGREGATION': <atoti.measure.Measure object at 0x000001BB83AF5350>, 'Margin': <atoti.measure.Measure object at 0x000001BB83AF4450>, 'Margin rate': <atoti.measure.Measure object at 0x000001BB83AF7A10>, '__hidden_3_CUMULATIVE_AGG_INNER': <atoti.measure.Measure object at 0x000001BB83AF7B10>, '__hidden_5_LEVEL': <atoti.measure.Measure object at 0x000001BB83AF4E10>, '__hidden_4_COMPARABLE_MAX': <atoti.measure.Measure object at 0x000001BB83AF7A90>, 'Cumulative amount': <atoti.measure.Measure object at 0x000001BB83AF4ED0>, 'Average amount per shop': <atoti.measure.Measure object at 0x000001BB83AF7FD0>, 'Parent category amount': <atoti.measure.Measure object at 0x000001BB83AF4610>, 'Percent of parent amount': <atoti.measure.Measure object at 0x000001BB83AF44D0>, 'Unit price.MEAN': <atoti.measure.Measure object at 0x000001BB83AF4B50>, 'Quantity.MEAN': <atoti.measure.Measure object at 0x000001BB83AF4410>, 'Quantity.SUM': <atoti.measure.Measure object at 0x000001BB83AF4810>}"
      ]
     },
     "execution_count": 57,
     "metadata": {
      "application/json": {
       "expanded": false,
       "root": "Measures"
      }
     },
     "output_type": "execute_result"
    }
   ],
   "source": [
    "m"
   ]
  },
  {
   "cell_type": "code",
   "execution_count": 58,
   "id": "3ea15870-5eae-4f02-b84c-95e142be1775",
   "metadata": {},
   "outputs": [
    {
     "data": {
      "text/html": [
       "<div>\n",
       "<style scoped>\n",
       "    .dataframe tbody tr th:only-of-type {\n",
       "        vertical-align: middle;\n",
       "    }\n",
       "\n",
       "    .dataframe tbody tr th {\n",
       "        vertical-align: top;\n",
       "    }\n",
       "\n",
       "    .dataframe thead th {\n",
       "        text-align: right;\n",
       "    }\n",
       "</style>\n",
       "<table border=\"1\" class=\"dataframe\">\n",
       "  <thead>\n",
       "    <tr style=\"text-align: right;\">\n",
       "      <th></th>\n",
       "      <th>Percent of parent amount</th>\n",
       "      <th>Margin rate</th>\n",
       "    </tr>\n",
       "    <tr>\n",
       "      <th>Category</th>\n",
       "      <th></th>\n",
       "      <th></th>\n",
       "    </tr>\n",
       "  </thead>\n",
       "  <tbody>\n",
       "    <tr>\n",
       "      <th>Cloth</th>\n",
       "      <td>.24</td>\n",
       "      <td>.23</td>\n",
       "    </tr>\n",
       "    <tr>\n",
       "      <th>Furniture</th>\n",
       "      <td>.76</td>\n",
       "      <td>.13</td>\n",
       "    </tr>\n",
       "  </tbody>\n",
       "</table>\n",
       "</div>"
      ],
      "text/plain": [
       "          Percent of parent amount Margin rate\n",
       "Category                                      \n",
       "Cloth                          .24         .23\n",
       "Furniture                      .76         .13"
      ]
     },
     "execution_count": 58,
     "metadata": {},
     "output_type": "execute_result"
    }
   ],
   "source": [
    "cube.query(m[\"Percent of parent amount\"], m[\"Margin rate\"], levels=[l[\"Category\"]])"
   ]
  },
  {
   "cell_type": "code",
   "execution_count": 59,
   "id": "43fdc6ce-94d8-4811-afe2-f14331780c57",
   "metadata": {},
   "outputs": [],
   "source": [
    "m[\"Percent of parent amount\"].formatter = \"DOUBLE[0.00%]\"\n",
    "m[\"Margin rate\"].formatter = \"DOUBLE[0.00%]\""
   ]
  },
  {
   "cell_type": "code",
   "execution_count": 60,
   "id": "c9fc5df2-d24b-4a89-a5e8-188b5d09ac53",
   "metadata": {},
   "outputs": [
    {
     "data": {
      "text/html": [
       "<div>\n",
       "<style scoped>\n",
       "    .dataframe tbody tr th:only-of-type {\n",
       "        vertical-align: middle;\n",
       "    }\n",
       "\n",
       "    .dataframe tbody tr th {\n",
       "        vertical-align: top;\n",
       "    }\n",
       "\n",
       "    .dataframe thead th {\n",
       "        text-align: right;\n",
       "    }\n",
       "</style>\n",
       "<table border=\"1\" class=\"dataframe\">\n",
       "  <thead>\n",
       "    <tr style=\"text-align: right;\">\n",
       "      <th></th>\n",
       "      <th>Percent of parent amount</th>\n",
       "      <th>Margin rate</th>\n",
       "    </tr>\n",
       "    <tr>\n",
       "      <th>Category</th>\n",
       "      <th></th>\n",
       "      <th></th>\n",
       "    </tr>\n",
       "  </thead>\n",
       "  <tbody>\n",
       "    <tr>\n",
       "      <th>Cloth</th>\n",
       "      <td>23.64%</td>\n",
       "      <td>22.56%</td>\n",
       "    </tr>\n",
       "    <tr>\n",
       "      <th>Furniture</th>\n",
       "      <td>76.36%</td>\n",
       "      <td>13.49%</td>\n",
       "    </tr>\n",
       "  </tbody>\n",
       "</table>\n",
       "</div>"
      ],
      "text/plain": [
       "          Percent of parent amount Margin rate\n",
       "Category                                      \n",
       "Cloth                       23.64%      22.56%\n",
       "Furniture                   76.36%      13.49%"
      ]
     },
     "execution_count": 60,
     "metadata": {},
     "output_type": "execute_result"
    }
   ],
   "source": [
    "cube.query(m[\"Percent of parent amount\"], m[\"Margin rate\"], levels=[l[\"Category\"]])"
   ]
  },
  {
   "cell_type": "code",
   "execution_count": 61,
   "id": "9740b1c6-fdb7-4172-9276-d9c974bd773c",
   "metadata": {},
   "outputs": [],
   "source": [
    "import pandas as pd\n"
   ]
  },
  {
   "cell_type": "code",
   "execution_count": 63,
   "id": "4f5d307d-6710-45ba-84de-d5697fe95c8a",
   "metadata": {},
   "outputs": [
    {
     "data": {
      "text/html": [
       "<div>\n",
       "<style scoped>\n",
       "    .dataframe tbody tr th:only-of-type {\n",
       "        vertical-align: middle;\n",
       "    }\n",
       "\n",
       "    .dataframe tbody tr th {\n",
       "        vertical-align: top;\n",
       "    }\n",
       "\n",
       "    .dataframe thead th {\n",
       "        text-align: right;\n",
       "    }\n",
       "</style>\n",
       "<table border=\"1\" class=\"dataframe\">\n",
       "  <thead>\n",
       "    <tr style=\"text-align: right;\">\n",
       "      <th></th>\n",
       "      <th>Product</th>\n",
       "      <th>Category</th>\n",
       "      <th>Sub category</th>\n",
       "      <th>Size</th>\n",
       "      <th>Purchase price</th>\n",
       "      <th>Color</th>\n",
       "      <th>Brand</th>\n",
       "    </tr>\n",
       "  </thead>\n",
       "  <tbody>\n",
       "    <tr>\n",
       "      <th>0</th>\n",
       "      <td>TAB_0</td>\n",
       "      <td>Furniture</td>\n",
       "      <td>Table</td>\n",
       "      <td>1m80</td>\n",
       "      <td>190.0</td>\n",
       "      <td>black</td>\n",
       "      <td>Basic</td>\n",
       "    </tr>\n",
       "    <tr>\n",
       "      <th>1</th>\n",
       "      <td>TAB_1</td>\n",
       "      <td>Furniture</td>\n",
       "      <td>Table</td>\n",
       "      <td>2m40</td>\n",
       "      <td>280.0</td>\n",
       "      <td>white</td>\n",
       "      <td>Mega</td>\n",
       "    </tr>\n",
       "    <tr>\n",
       "      <th>2</th>\n",
       "      <td>CHA_2</td>\n",
       "      <td>Furniture</td>\n",
       "      <td>Chair</td>\n",
       "      <td>NaN</td>\n",
       "      <td>48.0</td>\n",
       "      <td>blue</td>\n",
       "      <td>Basic</td>\n",
       "    </tr>\n",
       "    <tr>\n",
       "      <th>3</th>\n",
       "      <td>BED_3</td>\n",
       "      <td>Furniture</td>\n",
       "      <td>Bed</td>\n",
       "      <td>Single</td>\n",
       "      <td>127.0</td>\n",
       "      <td>red</td>\n",
       "      <td>Mega</td>\n",
       "    </tr>\n",
       "    <tr>\n",
       "      <th>4</th>\n",
       "      <td>BED_4</td>\n",
       "      <td>Furniture</td>\n",
       "      <td>Bed</td>\n",
       "      <td>Double</td>\n",
       "      <td>252.0</td>\n",
       "      <td>brown</td>\n",
       "      <td>Basic</td>\n",
       "    </tr>\n",
       "  </tbody>\n",
       "</table>\n",
       "</div>"
      ],
      "text/plain": [
       "  Product   Category Sub category    Size  Purchase price  Color  Brand\n",
       "0   TAB_0  Furniture        Table    1m80           190.0  black  Basic\n",
       "1   TAB_1  Furniture        Table    2m40           280.0  white   Mega\n",
       "2   CHA_2  Furniture        Chair     NaN            48.0   blue  Basic\n",
       "3   BED_3  Furniture          Bed  Single           127.0    red   Mega\n",
       "4   BED_4  Furniture          Bed  Double           252.0  brown  Basic"
      ]
     },
     "execution_count": 63,
     "metadata": {},
     "output_type": "execute_result"
    }
   ],
   "source": [
    "products_df = pd.read_csv(\"products.csv\")\n",
    "products_df.head()"
   ]
  },
  {
   "cell_type": "code",
   "execution_count": 64,
   "id": "ff01fed4-8799-46f4-a535-d28f56516ea2",
   "metadata": {},
   "outputs": [],
   "source": [
    "better_prices = {\n",
    "    \"TAB_0\": 180.0,\n",
    "    \"TAB_1\": 250.0,\n",
    "    \"CHA_2\": 40.0,\n",
    "    \"BED_3\": 110.0,\n",
    "    \"BED_4\": 210.0,\n",
    "}"
   ]
  },
  {
   "cell_type": "code",
   "execution_count": 65,
   "id": "b3c524de-3619-4133-acc5-3ef33364c56e",
   "metadata": {},
   "outputs": [
    {
     "data": {
      "text/html": [
       "<div>\n",
       "<style scoped>\n",
       "    .dataframe tbody tr th:only-of-type {\n",
       "        vertical-align: middle;\n",
       "    }\n",
       "\n",
       "    .dataframe tbody tr th {\n",
       "        vertical-align: top;\n",
       "    }\n",
       "\n",
       "    .dataframe thead th {\n",
       "        text-align: right;\n",
       "    }\n",
       "</style>\n",
       "<table border=\"1\" class=\"dataframe\">\n",
       "  <thead>\n",
       "    <tr style=\"text-align: right;\">\n",
       "      <th></th>\n",
       "      <th>Product</th>\n",
       "      <th>Category</th>\n",
       "      <th>Sub category</th>\n",
       "      <th>Size</th>\n",
       "      <th>Purchase price</th>\n",
       "      <th>Color</th>\n",
       "      <th>Brand</th>\n",
       "    </tr>\n",
       "  </thead>\n",
       "  <tbody>\n",
       "    <tr>\n",
       "      <th>0</th>\n",
       "      <td>TAB_0</td>\n",
       "      <td>Furniture</td>\n",
       "      <td>Table</td>\n",
       "      <td>1m80</td>\n",
       "      <td>180.0</td>\n",
       "      <td>black</td>\n",
       "      <td>Basic</td>\n",
       "    </tr>\n",
       "    <tr>\n",
       "      <th>1</th>\n",
       "      <td>TAB_1</td>\n",
       "      <td>Furniture</td>\n",
       "      <td>Table</td>\n",
       "      <td>2m40</td>\n",
       "      <td>250.0</td>\n",
       "      <td>white</td>\n",
       "      <td>Mega</td>\n",
       "    </tr>\n",
       "    <tr>\n",
       "      <th>2</th>\n",
       "      <td>CHA_2</td>\n",
       "      <td>Furniture</td>\n",
       "      <td>Chair</td>\n",
       "      <td>NaN</td>\n",
       "      <td>40.0</td>\n",
       "      <td>blue</td>\n",
       "      <td>Basic</td>\n",
       "    </tr>\n",
       "    <tr>\n",
       "      <th>3</th>\n",
       "      <td>BED_3</td>\n",
       "      <td>Furniture</td>\n",
       "      <td>Bed</td>\n",
       "      <td>Single</td>\n",
       "      <td>110.0</td>\n",
       "      <td>red</td>\n",
       "      <td>Mega</td>\n",
       "    </tr>\n",
       "    <tr>\n",
       "      <th>4</th>\n",
       "      <td>BED_4</td>\n",
       "      <td>Furniture</td>\n",
       "      <td>Bed</td>\n",
       "      <td>Double</td>\n",
       "      <td>210.0</td>\n",
       "      <td>brown</td>\n",
       "      <td>Basic</td>\n",
       "    </tr>\n",
       "  </tbody>\n",
       "</table>\n",
       "</div>"
      ],
      "text/plain": [
       "  Product   Category Sub category    Size  Purchase price  Color  Brand\n",
       "0   TAB_0  Furniture        Table    1m80           180.0  black  Basic\n",
       "1   TAB_1  Furniture        Table    2m40           250.0  white   Mega\n",
       "2   CHA_2  Furniture        Chair     NaN            40.0   blue  Basic\n",
       "3   BED_3  Furniture          Bed  Single           110.0    red   Mega\n",
       "4   BED_4  Furniture          Bed  Double           210.0  brown  Basic"
      ]
     },
     "execution_count": 65,
     "metadata": {},
     "output_type": "execute_result"
    }
   ],
   "source": [
    "for product, purchase_price in better_prices.items():\n",
    "    products_df.loc[\n",
    "        products_df[\"Product\"] == product, \"Purchase price\"\n",
    "    ] = purchase_price\n",
    "products_df.head()"
   ]
  },
  {
   "cell_type": "code",
   "execution_count": 66,
   "id": "7157bcbf-0dac-4fb8-977b-6cf31451b58d",
   "metadata": {},
   "outputs": [],
   "source": [
    "products_table.scenarios[\"Cheaper purchase prices\"].load_pandas(products_df)"
   ]
  },
  {
   "cell_type": "code",
   "execution_count": 67,
   "id": "18fe6cf9-33af-4db9-9fd2-7252d09b4372",
   "metadata": {
    "atoti": {
     "widget": {
      "mapping": {
       "columns": [
        "ALL_MEASURES"
       ],
       "measures": [
        "[Measures].[Margin]"
       ],
       "rows": [
        "[Epoch].[Epoch].[Branch]"
       ]
      },
      "query": {
       "mdx": "SELECT NON EMPTY {[Measures].[Margin]} ON COLUMNS, NON EMPTY [Epoch].[Epoch].[Branch].Members ON ROWS FROM [Sales] CELL PROPERTIES VALUE, FORMATTED_VALUE, BACK_COLOR, FORE_COLOR, FONT_FLAGS",
       "updateMode": "once"
      },
      "serverKey": "default",
      "widgetKey": "pivot-table"
     }
    }
   },
   "outputs": [
    {
     "data": {
      "application/vnd.atoti.widget.v0+json": {
       "sessionId": "1704710889_PJ9JPW",
       "sessionLocation": {
        "https": false,
        "port": 49404
       },
       "widgetCreationCode": "session.widget"
      },
      "text/html": [
       "<img height=\"352\" width=\"809\" src=\"data:image/png;base64,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\" />"
      ],
      "text/plain": [
       "Open the notebook in JupyterLab with the Atoti JupyterLab extension enabled to build this widget."
      ]
     },
     "metadata": {},
     "output_type": "display_data"
    }
   ],
   "source": [
    "session.widget"
   ]
  },
  {
   "cell_type": "code",
   "execution_count": 69,
   "id": "2d41a581-ac1e-4822-8ad6-7f959abfdb52",
   "metadata": {
    "atoti": {
     "widget": {
      "mapping": {
       "horizontalSubplots": [],
       "splitBy": [
        "ALL_MEASURES",
        "[Epoch].[Epoch].[Branch]"
       ],
       "values": [
        "[Measures].[Margin]"
       ],
       "verticalSubplots": [],
       "xAxis": [
        "[Products].[Product].[Category]"
       ]
      },
      "query": {
       "mdx": "SELECT NON EMPTY Crossjoin({[Measures].[Margin]}, [Epoch].[Epoch].[Branch].Members) ON COLUMNS, NON EMPTY Hierarchize(Descendants({[Products].[Product].[ALL].[AllMember]}, 1, SELF_AND_BEFORE)) ON ROWS FROM [Sales] CELL PROPERTIES VALUE, FORMATTED_VALUE, BACK_COLOR, FORE_COLOR, FONT_FLAGS",
       "updateMode": "once"
      },
      "serverKey": "default",
      "widgetKey": "plotly-clustered-column-chart"
     }
    },
    "scrolled": true
   },
   "outputs": [
    {
     "data": {
      "application/vnd.atoti.widget.v0+json": {
       "sessionId": "1704710889_PJ9JPW",
       "sessionLocation": {
        "https": false,
        "port": 49404
       },
       "widgetCreationCode": "session.widget"
      },
      "text/html": [
       "<img height=\"352\" width=\"792\" src=\"data:image/png;base64,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\" />"
      ],
      "text/plain": [
       "Open the notebook in JupyterLab with the Atoti JupyterLab extension enabled to build this widget."
      ]
     },
     "metadata": {},
     "output_type": "display_data"
    }
   ],
   "source": [
    "session.widget\n"
   ]
  },
  {
   "cell_type": "code",
   "execution_count": 70,
   "id": "3944bb39-6809-4060-9578-fdf976b09be2",
   "metadata": {},
   "outputs": [],
   "source": [
    "country_simulation = cube.create_parameter_simulation(\n",
    "    \"Country Simulation\",\n",
    "    levels=[l[\"Country\"]],\n",
    "    measures={\"Country parameter\": 1.0},\n",
    ")"
   ]
  },
  {
   "cell_type": "code",
   "execution_count": 71,
   "id": "f4260eed-a9b8-4af6-8ba1-bb39013620fa",
   "metadata": {},
   "outputs": [
    {
     "data": {
      "text/html": [
       "<div>\n",
       "<style scoped>\n",
       "    .dataframe tbody tr th:only-of-type {\n",
       "        vertical-align: middle;\n",
       "    }\n",
       "\n",
       "    .dataframe tbody tr th {\n",
       "        vertical-align: top;\n",
       "    }\n",
       "\n",
       "    .dataframe thead th {\n",
       "        text-align: right;\n",
       "    }\n",
       "</style>\n",
       "<table border=\"1\" class=\"dataframe\">\n",
       "  <thead>\n",
       "    <tr style=\"text-align: right;\">\n",
       "      <th></th>\n",
       "      <th></th>\n",
       "      <th>Country parameter</th>\n",
       "    </tr>\n",
       "    <tr>\n",
       "      <th>Scenario</th>\n",
       "      <th>Country</th>\n",
       "      <th></th>\n",
       "    </tr>\n",
       "  </thead>\n",
       "  <tbody>\n",
       "    <tr>\n",
       "      <th>France Crisis</th>\n",
       "      <th>France</th>\n",
       "      <td>0.8</td>\n",
       "    </tr>\n",
       "  </tbody>\n",
       "</table>\n",
       "</div>"
      ],
      "text/plain": [
       "                       Country parameter\n",
       "Scenario      Country                   \n",
       "France Crisis France                 0.8"
      ]
     },
     "execution_count": 71,
     "metadata": {},
     "output_type": "execute_result"
    }
   ],
   "source": [
    "country_simulation += (\"France Crisis\", \"France\", 0.80)\n",
    "country_simulation.head()"
   ]
  },
  {
   "cell_type": "code",
   "execution_count": 72,
   "id": "94b3034b-8f3a-47fb-9d51-58430a2c552a",
   "metadata": {},
   "outputs": [],
   "source": [
    "m[\"Quantity.SUM\"] = tt.agg.sum(\n",
    "    tt.agg.sum(sales_table[\"Quantity\"]) * m[\"Country parameter\"],\n",
    "    scope=tt.OriginScope(l[\"Country\"]),\n",
    ")\n",
    "m[\"Amount.SUM\"] = tt.agg.sum(\n",
    "    tt.agg.sum(sales_table[\"Unit price\"] * sales_table[\"Quantity\"])\n",
    "    * m[\"Country parameter\"],\n",
    "    scope=tt.OriginScope(l[\"Country\"]),\n",
    ")"
   ]
  },
  {
   "cell_type": "code",
   "execution_count": 73,
   "id": "213ea37c-777b-4c26-bbee-dc91c60b5f6d",
   "metadata": {},
   "outputs": [
    {
     "data": {
      "text/html": [
       "<div>\n",
       "<style scoped>\n",
       "    .dataframe tbody tr th:only-of-type {\n",
       "        vertical-align: middle;\n",
       "    }\n",
       "\n",
       "    .dataframe tbody tr th {\n",
       "        vertical-align: top;\n",
       "    }\n",
       "\n",
       "    .dataframe thead th {\n",
       "        text-align: right;\n",
       "    }\n",
       "</style>\n",
       "<table border=\"1\" class=\"dataframe\">\n",
       "  <thead>\n",
       "    <tr style=\"text-align: right;\">\n",
       "      <th></th>\n",
       "      <th></th>\n",
       "      <th>Quantity.SUM</th>\n",
       "      <th>Amount.SUM</th>\n",
       "    </tr>\n",
       "    <tr>\n",
       "      <th>Country Simulation</th>\n",
       "      <th>Country</th>\n",
       "      <th></th>\n",
       "      <th></th>\n",
       "    </tr>\n",
       "  </thead>\n",
       "  <tbody>\n",
       "    <tr>\n",
       "      <th rowspan=\"3\" valign=\"top\">Base</th>\n",
       "      <th></th>\n",
       "      <td>8,077.00</td>\n",
       "      <td>961,463.00</td>\n",
       "    </tr>\n",
       "    <tr>\n",
       "      <th>France</th>\n",
       "      <td>3,027.00</td>\n",
       "      <td>358,042.00</td>\n",
       "    </tr>\n",
       "    <tr>\n",
       "      <th>USA</th>\n",
       "      <td>5,050.00</td>\n",
       "      <td>603,421.00</td>\n",
       "    </tr>\n",
       "    <tr>\n",
       "      <th rowspan=\"3\" valign=\"top\">France Crisis</th>\n",
       "      <th></th>\n",
       "      <td>7,471.60</td>\n",
       "      <td>889,854.60</td>\n",
       "    </tr>\n",
       "    <tr>\n",
       "      <th>France</th>\n",
       "      <td>2,421.60</td>\n",
       "      <td>286,433.60</td>\n",
       "    </tr>\n",
       "    <tr>\n",
       "      <th>USA</th>\n",
       "      <td>5,050.00</td>\n",
       "      <td>603,421.00</td>\n",
       "    </tr>\n",
       "  </tbody>\n",
       "</table>\n",
       "</div>"
      ],
      "text/plain": [
       "                           Quantity.SUM  Amount.SUM\n",
       "Country Simulation Country                         \n",
       "Base                           8,077.00  961,463.00\n",
       "                   France      3,027.00  358,042.00\n",
       "                   USA         5,050.00  603,421.00\n",
       "France Crisis                  7,471.60  889,854.60\n",
       "                   France      2,421.60  286,433.60\n",
       "                   USA         5,050.00  603,421.00"
      ]
     },
     "execution_count": 73,
     "metadata": {},
     "output_type": "execute_result"
    }
   ],
   "source": [
    "cube.query(\n",
    "    m[\"Quantity.SUM\"],\n",
    "    m[\"Amount.SUM\"],\n",
    "    include_totals=True,\n",
    "    levels=[l[\"Country Simulation\"], l[\"Country\"]],\n",
    ")"
   ]
  },
  {
   "cell_type": "code",
   "execution_count": 74,
   "id": "becd96cb-481d-4c72-b9be-bac80741d663",
   "metadata": {},
   "outputs": [
    {
     "data": {
      "text/html": [
       "<div>\n",
       "<style scoped>\n",
       "    .dataframe tbody tr th:only-of-type {\n",
       "        vertical-align: middle;\n",
       "    }\n",
       "\n",
       "    .dataframe tbody tr th {\n",
       "        vertical-align: top;\n",
       "    }\n",
       "\n",
       "    .dataframe thead th {\n",
       "        text-align: right;\n",
       "    }\n",
       "</style>\n",
       "<table border=\"1\" class=\"dataframe\">\n",
       "  <thead>\n",
       "    <tr style=\"text-align: right;\">\n",
       "      <th></th>\n",
       "      <th></th>\n",
       "      <th>Cumulative amount</th>\n",
       "    </tr>\n",
       "    <tr>\n",
       "      <th>Country Simulation</th>\n",
       "      <th>Country</th>\n",
       "      <th></th>\n",
       "    </tr>\n",
       "  </thead>\n",
       "  <tbody>\n",
       "    <tr>\n",
       "      <th rowspan=\"2\" valign=\"top\">Base</th>\n",
       "      <th>France</th>\n",
       "      <td>358,042.00</td>\n",
       "    </tr>\n",
       "    <tr>\n",
       "      <th>USA</th>\n",
       "      <td>603,421.00</td>\n",
       "    </tr>\n",
       "    <tr>\n",
       "      <th rowspan=\"2\" valign=\"top\">France Crisis</th>\n",
       "      <th>France</th>\n",
       "      <td>286,433.60</td>\n",
       "    </tr>\n",
       "    <tr>\n",
       "      <th>USA</th>\n",
       "      <td>603,421.00</td>\n",
       "    </tr>\n",
       "  </tbody>\n",
       "</table>\n",
       "</div>"
      ],
      "text/plain": [
       "                           Cumulative amount\n",
       "Country Simulation Country                  \n",
       "Base               France         358,042.00\n",
       "                   USA            603,421.00\n",
       "France Crisis      France         286,433.60\n",
       "                   USA            603,421.00"
      ]
     },
     "execution_count": 74,
     "metadata": {},
     "output_type": "execute_result"
    }
   ],
   "source": [
    "cube.query(m[\"Cumulative amount\"], levels=[l[\"Country Simulation\"], l[\"Country\"]])"
   ]
  },
  {
   "cell_type": "code",
   "execution_count": 75,
   "id": "0bcdbee7-365e-4068-9867-110162d73f2f",
   "metadata": {},
   "outputs": [],
   "source": [
    "country_simulation += (\"US boost\", \"USA\", 1.15)"
   ]
  },
  {
   "cell_type": "code",
   "execution_count": 76,
   "id": "59b2f3fd-d9c5-4b4c-b3a5-e42cbcd531d4",
   "metadata": {},
   "outputs": [
    {
     "data": {
      "text/html": [
       "<div>\n",
       "<style scoped>\n",
       "    .dataframe tbody tr th:only-of-type {\n",
       "        vertical-align: middle;\n",
       "    }\n",
       "\n",
       "    .dataframe tbody tr th {\n",
       "        vertical-align: top;\n",
       "    }\n",
       "\n",
       "    .dataframe thead th {\n",
       "        text-align: right;\n",
       "    }\n",
       "</style>\n",
       "<table border=\"1\" class=\"dataframe\">\n",
       "  <thead>\n",
       "    <tr style=\"text-align: right;\">\n",
       "      <th></th>\n",
       "      <th></th>\n",
       "      <th>Quantity.SUM</th>\n",
       "    </tr>\n",
       "    <tr>\n",
       "      <th>Country Simulation</th>\n",
       "      <th>Country</th>\n",
       "      <th></th>\n",
       "    </tr>\n",
       "  </thead>\n",
       "  <tbody>\n",
       "    <tr>\n",
       "      <th rowspan=\"2\" valign=\"top\">Base</th>\n",
       "      <th>France</th>\n",
       "      <td>3,027.00</td>\n",
       "    </tr>\n",
       "    <tr>\n",
       "      <th>USA</th>\n",
       "      <td>5,050.00</td>\n",
       "    </tr>\n",
       "    <tr>\n",
       "      <th rowspan=\"2\" valign=\"top\">France Crisis</th>\n",
       "      <th>France</th>\n",
       "      <td>2,421.60</td>\n",
       "    </tr>\n",
       "    <tr>\n",
       "      <th>USA</th>\n",
       "      <td>5,050.00</td>\n",
       "    </tr>\n",
       "    <tr>\n",
       "      <th rowspan=\"2\" valign=\"top\">US boost</th>\n",
       "      <th>France</th>\n",
       "      <td>3,027.00</td>\n",
       "    </tr>\n",
       "    <tr>\n",
       "      <th>USA</th>\n",
       "      <td>5,807.50</td>\n",
       "    </tr>\n",
       "  </tbody>\n",
       "</table>\n",
       "</div>"
      ],
      "text/plain": [
       "                           Quantity.SUM\n",
       "Country Simulation Country             \n",
       "Base               France      3,027.00\n",
       "                   USA         5,050.00\n",
       "France Crisis      France      2,421.60\n",
       "                   USA         5,050.00\n",
       "US boost           France      3,027.00\n",
       "                   USA         5,807.50"
      ]
     },
     "execution_count": 76,
     "metadata": {},
     "output_type": "execute_result"
    }
   ],
   "source": [
    "cube.query(m[\"Quantity.SUM\"], levels=[l[\"Country Simulation\"], l[\"Country\"]])"
   ]
  },
  {
   "cell_type": "code",
   "execution_count": 77,
   "id": "d8a522da-1c8b-49d4-96ed-389b923ee2aa",
   "metadata": {
    "atoti": {
     "widget": {
      "mapping": {
       "horizontalSubplots": [],
       "secondaryValues": [],
       "splitBy": [
        "[Country Simulation].[Country Simulation].[Country Simulation]",
        "ALL_MEASURES"
       ],
       "values": [
        "[Measures].[Cumulative amount]"
       ],
       "verticalSubplots": [],
       "xAxis": [
        "[Sales].[Date].[Date]"
       ]
      },
      "query": {
       "mdx": "SELECT NON EMPTY Hierarchize(Descendants({[Sales].[Date].[ALL].[AllMember]}, 1, SELF_AND_BEFORE)) ON ROWS, NON EMPTY Crossjoin([Country Simulation].[Country Simulation].[Country Simulation].Members, {[Measures].[Cumulative amount]}) ON COLUMNS FROM [Sales] CELL PROPERTIES VALUE, FORMATTED_VALUE, BACK_COLOR, FORE_COLOR, FONT_FLAGS",
       "updateMode": "once"
      },
      "serverKey": "default",
      "widgetKey": "plotly-line-chart"
     }
    },
    "scrolled": true
   },
   "outputs": [
    {
     "data": {
      "application/vnd.atoti.widget.v0+json": {
       "sessionId": "1704710889_PJ9JPW",
       "sessionLocation": {
        "https": false,
        "port": 49404
       },
       "widgetCreationCode": "session.widget"
      },
      "text/html": [
       "<img height=\"352\" width=\"792\" src=\"data:image/png;base64,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\" />"
      ],
      "text/plain": [
       "Open the notebook in JupyterLab with the Atoti JupyterLab extension enabled to build this widget."
      ]
     },
     "metadata": {},
     "output_type": "display_data"
    }
   ],
   "source": [
    "session.widget"
   ]
  },
  {
   "cell_type": "code",
   "execution_count": 78,
   "id": "397e89a3-f343-45f5-a3c3-75c6d1bb4fa9",
   "metadata": {
    "atoti": {
     "widget": {
      "mapping": {
       "columns": [
        "ALL_MEASURES",
        "[Epoch].[Epoch].[Branch]"
       ],
       "measures": [
        "[Measures].[Margin]"
       ],
       "rows": [
        "[Country Simulation].[Country Simulation].[Country Simulation]"
       ]
      },
      "query": {
       "mdx": "SELECT NON EMPTY [Country Simulation].[Country Simulation].[Country Simulation].Members ON ROWS, NON EMPTY Crossjoin({[Measures].[Margin]}, [Epoch].[Epoch].[Branch].Members) ON COLUMNS FROM [Sales] CELL PROPERTIES VALUE, FORMATTED_VALUE, BACK_COLOR, FORE_COLOR, FONT_FLAGS",
       "updateMode": "once"
      },
      "serverKey": "default",
      "widgetKey": "pivot-table"
     }
    }
   },
   "outputs": [
    {
     "data": {
      "application/vnd.atoti.widget.v0+json": {
       "sessionId": "1704710889_PJ9JPW",
       "sessionLocation": {
        "https": false,
        "port": 49404
       },
       "widgetCreationCode": "session.widget"
      },
      "text/html": [
       "<img height=\"352\" width=\"809\" src=\"data:image/png;base64,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\" />"
      ],
      "text/plain": [
       "Open the notebook in JupyterLab with the Atoti JupyterLab extension enabled to build this widget."
      ]
     },
     "metadata": {},
     "output_type": "display_data"
    }
   ],
   "source": [
    "session.widget"
   ]
  },
  {
   "cell_type": "code",
   "execution_count": null,
   "id": "0587a003-af57-42d5-982e-2301a0a35bc7",
   "metadata": {},
   "outputs": [],
   "source": []
  }
 ],
 "metadata": {
  "kernelspec": {
   "display_name": "Python 3 (ipykernel)",
   "language": "python",
   "name": "python3"
  },
  "language_info": {
   "codemirror_mode": {
    "name": "ipython",
    "version": 3
   },
   "file_extension": ".py",
   "mimetype": "text/x-python",
   "name": "python",
   "nbconvert_exporter": "python",
   "pygments_lexer": "ipython3",
   "version": "3.11.5"
  }
 },
 "nbformat": 4,
 "nbformat_minor": 5
}
