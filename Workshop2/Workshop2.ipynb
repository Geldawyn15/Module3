{
 "cells": [
  {
   "cell_type": "code",
   "execution_count": 27,
   "id": "cdca5e22",
   "metadata": {},
   "outputs": [],
   "source": [
    "import pandas as pd\n",
    "import psycopg2\n",
    "\n",
    "#definir les types de donnes pour chaque champs\n",
    "column_types = {\n",
    "    \"PassengerId\": \"INTEGER\",\n",
    "    \"Survived\": \"Boolean\",\n",
    "    \"Pclass\": \"INTEGER\",\n",
    "    \"Name\": \"TEXT\",\n",
    "    \"Sex\": \"TEXT\",\n",
    "    \"Age\": \"INTEGER\",\n",
    "    \"SibSp\": \"INTEGER\",\n",
    "    \"Parch\": \"INTEGER\",\n",
    "    \"Ticket\": \"TEXT\",\n",
    "    \"Fare\": \"REAL\",\n",
    "    \"Cabin\": \"TEXT\",\n",
    "    \"Embarked\": \"TEXT\"\n",
    "}\n",
    "column_headers = columns.keys()\n",
    "\n",
    "sql_command = \"CREATE TABLE titanic (\" + \", \".join([f\"{column} {column_types[col]}\" for column in column_headers]) + \");\"\n",
    "\n",
    "# Connexion à PostgreSQL et exécution de la commande\n",
    "conn = psycopg2.connect(\"dbname='Titanic' user='Alex' password='Alex1396'\")\n",
    "cur = conn.cursor()\n",
    "cur.execute(sql_command)\n",
    "conn.commit()\n",
    "cur.close()\n",
    "conn.close()\n"
   ]
  },
  {
   "cell_type": "code",
   "execution_count": 28,
   "id": "0a96358d",
   "metadata": {},
   "outputs": [],
   "source": [
    "import csv\n",
    "import psycopg2\n",
    "\n",
    "# Connexion à la base de données\n",
    "conn = psycopg2.connect(\"dbname='Titanic' user='Alex' password='Alex1396'\")\n",
    "cur = conn.cursor()\n",
    "\n",
    "# Insérer les données en remplaçant l'âge manquant par l'âge moyen\n",
    "with open('titanic.csv', 'r') as f:\n",
    "    reader = csv.reader(f)\n",
    "    next(reader)  # Ignorer l'en-tête\n",
    "    for row in reader:\n",
    "        row = [ '0' if x == '' and i == 5 else x for i, x in enumerate(row)]  # i == 5 correspond à l'index de la colonne Age\n",
    "        cur.execute(\n",
    "            \"INSERT INTO titanic (PassengerId, Survived, Pclass, Name, Sex, Age, SibSp, Parch, Ticket, Fare, Cabin, Embarked) VALUES (%s, %s, %s, %s, %s, %s, %s, %s, %s, %s, %s, %s)\",\n",
    "            row\n",
    "        )\n",
    "\n",
    "# Valider et fermer\n",
    "conn.commit()\n",
    "cur.close()\n",
    "conn.close()\n"
   ]
  },
  {
   "cell_type": "code",
   "execution_count": null,
   "id": "cef876f6-e9e7-47a7-bb6d-dbc4e309545e",
   "metadata": {},
   "outputs": [],
   "source": []
  }
 ],
 "metadata": {
  "kernelspec": {
   "display_name": "Python 3 (ipykernel)",
   "language": "python",
   "name": "python3"
  },
  "language_info": {
   "codemirror_mode": {
    "name": "ipython",
    "version": 3
   },
   "file_extension": ".py",
   "mimetype": "text/x-python",
   "name": "python",
   "nbconvert_exporter": "python",
   "pygments_lexer": "ipython3",
   "version": "3.11.5"
  }
 },
 "nbformat": 4,
 "nbformat_minor": 5
}
