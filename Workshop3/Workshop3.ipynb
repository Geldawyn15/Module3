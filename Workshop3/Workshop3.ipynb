{
 "cells": [
  {
   "cell_type": "code",
   "execution_count": 2,
   "id": "282a7736-e534-4856-a2a5-9f88e0c3a4c5",
   "metadata": {
    "scrolled": true
   },
   "outputs": [],
   "source": [
    "import psycopg2 "
   ]
  },
  {
   "cell_type": "code",
   "execution_count": null,
   "id": "425059cc-c4b8-4e8b-abb5-4da7d5cf340c",
   "metadata": {},
   "outputs": [],
   "source": [
    "\n",
    "CREATE TABLE IF NOT EXISTS aliment (\n",
    "  id SERIAL PRIMARY KEY,\n",
    "  nom VARCHAR(100) NOT NULL,\n",
    "  marque VARCHAR(100) DEFAULT NULL,\n",
    "  sucre FLOAT DEFAULT NULL,\n",
    "  calories INTEGER NOT NULL,\n",
    "  graisses FLOAT DEFAULT NULL,\n",
    "  proteines FLOAT DEFAULT NULL,\n",
    "  bio smallint DEFAULT 0\n",
    ");\n",
    "\n",
    "CREATE TABLE IF NOT EXISTS utilisateur (\n",
    "  id SERIAL PRIMARY KEY,\n",
    "  nom VARCHAR(100) DEFAULT NULL,\n",
    "  prenom VARCHAR(100) DEFAULT NULL,\n",
    "  email VARCHAR(255) NOT NULL UNIQUE\n",
    ");"
   ]
  },
  {
   "cell_type": "code",
   "execution_count": null,
   "id": "17314729-ac9d-4830-b3c6-a77b46dc3d12",
   "metadata": {},
   "outputs": [],
   "source": [
    "INSERT INTO aliment VALUES \n",
    "(1,'pomme','sans marque',19.1,72,0.2,0.4,0),\n",
    "(2,'poire','sans marque',27.5,134,0.2,1.1,1),\n",
    "(3,'banane','chiquita',24,101,0.3,1.1,0),\n",
    "(4,'jambon','herta',0.2,34,0.8,6.6,0),\n",
    "(5,'compote','andros',11,51,0,0.5,0),\n",
    "(6,'steak haché','charal',0.8,68,4.8,4.8,0),\n",
    "(7,'saumon','guyader',0,206,12.3,22.1,0),\n",
    "(8,'haricots verts','bonduelle',5.8,25,0.1,1.5,0),\n",
    "(9,'riz','oncle benz',28.2,130,0.3,2.7,0),\n",
    "(10,'pâtes completes','barilla',64,353,2.7,14,1),\n",
    "(11,'blanc de dinde','père dodu',0.6,98,0.9,22,0),\n",
    "(12,'filet de poulet','le gaulois',0,121,1.8,26.2,0),\n",
    "(13,'muesli','bjorg',26.5,170,5,3.5,1),\n",
    "(14,'café','carte noire',0,0,0,0,0),\n",
    "(15,'jus d''orange','innocent',16,74,0,1.6,0),\n",
    "(16,'jus de pomme','andros',24,100,0.2,0.2,1),\n",
    "(17,'pomme de terre','doréac',21.1,104,0.2,2.8,0),\n",
    "(18,'oeuf','naturalia',0.4,74,5.1,6.5,1),\n",
    "(19,'baguette','sans marque',36.1,185,1.2,7.5,0),\n",
    "(20,'lait d''amande','bjorg',6.1,80,5.3,1.5,1);"
   ]
  },
  {
   "cell_type": "code",
   "execution_count": null,
   "id": "aac9aa7d-1d36-4854-9818-9a966b1aea57",
   "metadata": {},
   "outputs": [],
   "source": [
    "INSERT INTO utilisateur VALUES \n",
    "(1,'durantay','quentin','qentin@gmail.com'),\n",
    "(2,'dupont','marie','marie@hotmail.fr'),\n",
    "(3,'miller','vincent','vm@yahoo.com'),\n",
    "(4,'zuckerberg','marc','marc@gmail.com'),\n",
    "(5,'paul','pierre','pp@orange.fr'),\n",
    "(6,'de vauclerc','lisa','lisadv@gmail.com'),\n",
    "(7,'gluntig','éléonore','glunt@sfr.com'),\n",
    "(8,'cavill','henry','henry@outlook.fr'),\n",
    "(9,'hopper','lionel','hpp@gmail.com'),\n",
    "(10,'tember','fabienne','fabienne@yopmail.com');"
   ]
  },
  {
   "cell_type": "code",
   "execution_count": null,
   "id": "896116b0-8f5c-4f81-8aaa-2ccd9cd63f84",
   "metadata": {},
   "outputs": [],
   "source": [
    "UPDATE utilisateu SET email = 'quentind@gmail.com' WHERE id = '1';"
   ]
  },
  {
   "cell_type": "code",
   "execution_count": null,
   "id": "1db6c84c-3957-4352-9f4f-e19f9ebd8f5c",
   "metadata": {},
   "outputs": [],
   "source": [
    "SELECT * FROM utilisatuer WHERE id = 1"
   ]
  },
  {
   "cell_type": "code",
   "execution_count": null,
   "id": "a4846c5a-10d0-47a7-b25c-a25abd201c95",
   "metadata": {},
   "outputs": [],
   "source": [
    "UPDATE aliment SET nom = 'pomme golden', marque = 'Intermarche' WHERE id = 1;"
   ]
  },
  {
   "cell_type": "code",
   "execution_count": null,
   "id": "cb48fe4a-edd6-4a5a-9f9c-a2b962ceebba",
   "metadata": {},
   "outputs": [],
   "source": [
    "SELECT * FROM aliment"
   ]
  },
  {
   "cell_type": "code",
   "execution_count": null,
   "id": "31802e8b-95a6-4d68-98ef-117a6e55434d",
   "metadata": {},
   "outputs": [],
   "source": [
    "SELECT * FROM aliment WHERE calories < 90;"
   ]
  },
  {
   "cell_type": "code",
   "execution_count": null,
   "id": "c0907883-d711-4884-86c4-b4d792c78e94",
   "metadata": {},
   "outputs": [],
   "source": [
    "SELECT * FROM aliment WHERE calories < 90 ORDER BY calories DESC;"
   ]
  },
  {
   "cell_type": "code",
   "execution_count": null,
   "id": "68cea4aa-4501-4579-8e22-e668218551ae",
   "metadata": {},
   "outputs": [],
   "source": [
    "SELECT COUNT(email) \n",
    "FROM utilisateur \n",
    "WHERE email LIKE '%gmail.com';"
   ]
  },
  {
   "cell_type": "code",
   "execution_count": null,
   "id": "f67bf35e-16f4-42d9-9d3a-e2c52ef3c7a3",
   "metadata": {},
   "outputs": [],
   "source": [
    "SELECT COUNT(DISTINCT nom)  AS \"produits différents contenant le mot pomme\"\n",
    "FROM aliment \n",
    "WHERE nom LIKE '%pomme%';"
   ]
  },
  {
   "cell_type": "code",
   "execution_count": null,
   "id": "f58f2703-02fd-449f-bbb1-0a90084a65b2",
   "metadata": {},
   "outputs": [],
   "source": [
    "SELECT MAX(sucre)  AS \"taux de sucre maximum\"\n",
    "FROM aliment; "
   ]
  },
  {
   "cell_type": "code",
   "execution_count": null,
   "id": "e69d1535-458f-4c85-a93e-17a83a6578f8",
   "metadata": {},
   "outputs": [],
   "source": [
    "SELECT ROUND(AVG(calories)) AS \"calories moyennes des aliments > 30g\"\n",
    "FROM aliment \n",
    "WHERE calories > 30;"
   ]
  },
  {
   "cell_type": "code",
   "execution_count": null,
   "id": "a0127f3c-1b5b-45ee-baee-a158f6753df5",
   "metadata": {},
   "outputs": [],
   "source": [
    "CREATE VIEW utilisateurs_gmail_vw AS \n",
    "    (   SELECT * \n",
    "        FROM utilisateur \n",
    "        WHERE email LIKE '%gmail.com'\n",
    "    );"
   ]
  },
  {
   "cell_type": "code",
   "execution_count": null,
   "id": "711d9137-c5b8-485f-ac8a-27c6d536aea3",
   "metadata": {},
   "outputs": [],
   "source": [
    "CREATE TABLE langue (\n",
    "  id serial NOT NULL PRIMARY KEY ,\n",
    "  nom varchar(100) NOT NULL\n",
    ");"
   ]
  },
  {
   "cell_type": "code",
   "execution_count": null,
   "id": "f2adafc5-ecb4-4746-ab91-d5ddac2a37bc",
   "metadata": {},
   "outputs": [],
   "source": [
    "SELECT * FROM utilisateur\n",
    "JOIN langue\n",
    "ON utilisateur.langue_id = langue.id\n",
    "WHERE (utilisateur.email LIKE '%gmail%') AND (langue.id=1) ;"
   ]
  },
  {
   "cell_type": "code",
   "execution_count": null,
   "id": "5fae3927-4f55-411d-a51b-12f551343539",
   "metadata": {},
   "outputs": [],
   "source": [
    "-- This script was generated by the ERD tool in pgAdmin 4.\n",
    "-- Please log an issue at https://redmine.postgresql.org/projects/pgadmin4/issues/new if you find any bugs, including reproduction steps.\n",
    "BEGIN;\n",
    "\n",
    "\n",
    "DROP TABLE IF EXISTS public.film_pays_de_sortie;\n",
    "\n",
    "CREATE TABLE IF NOT EXISTS public.film_pays_de_sortie\n",
    "(\n",
    "    film_id integer NOT NULL,\n",
    "    pays_de_sortie_id integer NOT NULL,\n",
    "    PRIMARY KEY (pays_de_sortie_id, film_id)\n",
    ");\n",
    "\n",
    "DROP TABLE IF EXISTS public.note;\n",
    "\n",
    "CREATE TABLE IF NOT EXISTS public.note\n",
    "(\n",
    "    id serial NOT NULL,\n",
    "    note integer NOT NULL,\n",
    "    PRIMARY KEY (id)\n",
    ");\n",
    "\n",
    "DROP TABLE IF EXISTS public.pays_de_sortie;\n",
    "\n",
    "CREATE TABLE IF NOT EXISTS public.pays_de_sortie\n",
    "(\n",
    "    id serial NOT NULL,\n",
    "    nom character varying(255),\n",
    "    PRIMARY KEY (id)\n",
    ");\n",
    "\n",
    "DROP TABLE IF EXISTS public.film;\n",
    "\n",
    "CREATE TABLE IF NOT EXISTS public.film\n",
    "(\n",
    "    id serial NOT NULL,\n",
    "    date_de_sortie date,\n",
    "    synopsis text,\n",
    "    langue character varying(255),\n",
    "    budget integer,\n",
    "    nom character varying(255) NOT NULL,\n",
    "    note_id integer NOT NULL,\n",
    "    PRIMARY KEY (id)\n",
    ");\n",
    "\n",
    "ALTER TABLE IF EXISTS public.film_pays_de_sortie\n",
    "    ADD CONSTRAINT pays_de_sortie_id FOREIGN KEY (pays_de_sortie_id)\n",
    "    REFERENCES public.pays_de_sortie (id) MATCH SIMPLE\n",
    "    ON UPDATE CASCADE\n",
    "    ON DELETE RESTRICT\n",
    "    NOT VALID;\n",
    "\n",
    "\n",
    "ALTER TABLE IF EXISTS public.film_pays_de_sortie\n",
    "    ADD FOREIGN KEY (film_id)\n",
    "    REFERENCES public.film (id) MATCH SIMPLE\n",
    "    ON UPDATE NO ACTION\n",
    "    ON DELETE NO ACTION\n",
    "    NOT VALID;\n",
    "\n",
    "\n",
    "ALTER TABLE IF EXISTS public.film\n",
    "    ADD FOREIGN KEY (note_id)\n",
    "    REFERENCES public.note (id) MATCH SIMPLE\n",
    "    ON UPDATE NO ACTION\n",
    "    ON DELETE NO ACTION\n",
    "    NOT VALID;\n",
    "\n",
    "END;"
   ]
  },
  {
   "cell_type": "code",
   "execution_count": null,
   "id": "78e4cf6a-20de-404b-b3c2-6f7c6631ade6",
   "metadata": {},
   "outputs": [],
   "source": [
    "INSERT INTO note VALUES (1,1),(2,2),(3,3),(4,4),(5,5);\n",
    "INSERT INTO pays_de_sortie VALUES (1,'france'),(2,'usa'),(3,'angleterre'),(4,'allemagne'),(5,'italie'),(6,'espagne');\n",
    "INSERT INTO film VALUES \n",
    "\t(1,'1998-04-04','L''histoire du plus grand paquebot de son époque, et de sa funeste fin.','anglais',200000000,'Titanic',4),\n",
    "\t(2,'2012-10-26','Dans cet épisode le plus sombre de la saga, James Bond retourne à ses origines.','anglais',200000000,'Skyfall',5),\n",
    "\t(3,'2017-01-25','Une histoire d''amour à Los Angeles sous forme de comédie musicale.','anglais',30000000,'La La Land',3);\n",
    "\t\n",
    "\n",
    "\n",
    "INSERT INTO film_pays_de_sortie VALUES (1,1),(2,1),(3,1),(1,2),(2,3),(3,3),(1,4),(3,5),(3,6);\n",
    "\t\n"
   ]
  },
  {
   "cell_type": "code",
   "execution_count": null,
   "id": "a65e00f1-95d7-4376-8eed-0bc925f1c823",
   "metadata": {},
   "outputs": [],
   "source": [
    "ALTER TABLE aliment DROP bio;"
   ]
  },
  {
   "cell_type": "code",
   "execution_count": null,
   "id": "57337ae4-a830-42de-a680-549c89a9f55e",
   "metadata": {},
   "outputs": [],
   "source": [
    "CREATE TABLE lieu (\n",
    "id serial NOT NULL  PRIMARY KEY,\n",
    "nom VARCHAR(100) NOT NULL,\n",
    "type VARCHAR(100) NOT NULL\n",
    ");"
   ]
  },
  {
   "cell_type": "code",
   "execution_count": null,
   "id": "9a8908bb-095f-4a3e-b520-80f4e5e714d0",
   "metadata": {},
   "outputs": [],
   "source": [
    "CREATE TABLE aliment_lieu (\n",
    "aliment_id INT NOT NULL,\n",
    "lieu_id INT NOT NULL,\n",
    "FOREIGN KEY (aliment_id) REFERENCES aliment (id) ON DELETE RESTRICT ON UPDATE CASCADE,\n",
    "FOREIGN KEY (lieu_id) REFERENCES lieu (id) ON DELETE RESTRICT ON UPDATE CASCADE,\n",
    "PRIMARY KEY (aliment_id, lieu_id)\n",
    ");"
   ]
  },
  {
   "cell_type": "code",
   "execution_count": null,
   "id": "552a8f3c-8968-4272-b3c7-c2800e0f99fd",
   "metadata": {},
   "outputs": [],
   "source": []
  }
 ],
 "metadata": {
  "kernelspec": {
   "display_name": "Python 3 (ipykernel)",
   "language": "python",
   "name": "python3"
  },
  "language_info": {
   "codemirror_mode": {
    "name": "ipython",
    "version": 3
   },
   "file_extension": ".py",
   "mimetype": "text/x-python",
   "name": "python",
   "nbconvert_exporter": "python",
   "pygments_lexer": "ipython3",
   "version": "3.11.5"
  }
 },
 "nbformat": 4,
 "nbformat_minor": 5
}
